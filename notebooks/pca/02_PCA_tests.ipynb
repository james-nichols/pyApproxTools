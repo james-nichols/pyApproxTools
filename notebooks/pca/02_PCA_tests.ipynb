{
 "cells": [
  {
   "cell_type": "markdown",
   "metadata": {},
   "source": [
    "$\\def \\dot #1#2{\\left\\langle #1, #2 \\right\\rangle}$\n",
    "$\\def \\adot #1#2{\\left\\langle #1, #2 \\right\\rangle}$\n",
    "$\\def \\cD {\\mathcal{D}}$\n",
    "$\\def \\cW {\\mathcal{W}}$\n",
    "$\\def \\bc {\\mathbf{c}}$\n",
    "$\\def \\bv {\\mathbf{v}}$\n",
    "$\\def \\bG {\\mathbf{G}}$\n",
    "$\\def \\bC {\\mathbf{C}}$\n",
    "$\\def \\bU {\\mathbf{U}}$\n",
    "$\\def \\bV {\\mathbf{V}}$\n",
    "$\\def \\bW {\\mathbf{W}}$\n",
    "$\\def \\bPhi {\\mathbf{\\Phi}}$\n",
    "$\\def \\bPsi {\\mathbf{\\Psi}}$\n",
    "$\\def \\bGamma {\\mathbf{\\Gamma}}$\n",
    "$\\def \\bSigma {\\mathbf{\\Sigma}}$\n",
    "$\\def \\bOmega {\\mathbf{\\Omega}}$\n",
    "$\\def \\bbE {\\mathbb{E}}$\n",
    "$\\def \\bbP {\\mathbb{P}}$\n",
    "$\\def \\bbR {\\mathbb{R}}$\n",
    "$\\def \\bbN {\\mathbb{N}}$\n",
    "\n",
    "# Demonstrating the proper PCA decomposition\n",
    "\n",
    "From a snapshot set $\\{ u_i \\}_{i=1}^N$, how do we derive the proper PCA fit, noting that the covariance is properly defined as\n",
    "$$\n",
    "\\langle v, C w \\rangle := \\mathbb{E}(\\langle u, v \\rangle \\langle u, w \\rangle) \n",
    "$$\n",
    "but here we use the approximate (empirical) covariance:\n",
    "$$\n",
    "\\langle v, C w \\rangle = \\frac{1}{N} \\sum_{i=1}^N \\langle u_i, v \\rangle \\langle u_i, w \\rangle\n",
    "$$\n",
    "\n",
    "What I actually did was the eigen-decomposition of the Gram matrix $\\mathbf{G}$, where $G_{i,j} = \\langle u_i, u_j \\rangle$, and used this to build the \"PCA\", but apparently that wasn't right... Well, lets see. \n",
    "\n",
    "Note firstly that $C: V \\to V$ and $\\bG : \\mathbb{R}^N \\to \\mathbb{R}^N$. Let's take the case $V=\\mathbb{R}^K$ to  make things a bit simpler, then we have $\\bC: \\bbR^K \\to \\bbR^K$ and our empirical covariance is\n",
    "$$\n",
    "\\langle v, \\bC w \\rangle = v^T \\bC w = \\frac{1}{N} \\sum_{i=1}^N \\langle u_i, v \\rangle \\langle u_i, w \\rangle = \\frac{1}{N} \\sum_{i=1}^N (u_i^T v)^T ( u_i^T w)\n",
    "$$\n",
    "Let us write $\\bU = [u_1, u_2, \\ldots, u_N] \\in \\bbR^{K\\times N}$, so we have from the above\n",
    "\n",
    "$$\n",
    "v^T \\bC w = v^T \\bU \\bU^T w,\n",
    "$$\n",
    "\n",
    "so indeed as we wrote on the board the other day we have that $\\bC$ is the outer-product matrix of $\\bU$. Note in this case also we have the Gram matrix $\\bG = \\bU^T \\bU$. \n",
    "\n",
    "There's the SVD decomposition of $\\bU = \\bPsi \\bSigma \\bPhi^T$, with $\\bPsi\\in\\bbR^{K\\times K}$, $\\bSigma\\in\\bbR^{N\\times K}$ and $\\bPhi \\in \\bbR^{N \\times N}$. We may have fewer than $N$ singular values. Both $\\bC$ and $\\bG$ are evidently symmetric matrices and they decompose as\n",
    "\n",
    "$$\n",
    "\\bG =  \\bU \\bU^T  = \\bPsi \\bSigma \\bSigma^T \\bPsi^T \\quad\\text{and}\\quad \\bC = \\bU^T \\bU = \\bPhi \\bSigma^T \\bSigma \\bPhi^T\n",
    "$$\n",
    "\n",
    "Note that $\\bSigma \\bSigma^T$ is a diagonal $K\\times K$ matrix, while $\\bSigma^T \\bSigma$ is $N\\times N$, they both are diagonal with $\\sigma^2$ along the diagonal.\n",
    "\n",
    "Now, we have that $\\bPsi = \\bU \\bPhi \\bSigma^{-1}$. I'm reasonably sure this all applies if we consider a more general $V$, with of course the addition of an operator $E : v \\to \\bbR^K$ that maps from a canonical ortho basis to the coordinates. But this doesn't complicate things too much.\n",
    "\n",
    "First let us test this all in $\\bbR^K$ for some moderate $K$."
   ]
  },
  {
   "cell_type": "code",
   "execution_count": 2,
   "metadata": {},
   "outputs": [],
   "source": [
    "import numpy as np\n",
    "import scipy as sp\n",
    "import importlib\n",
    "import seaborn as sns\n",
    "import matplotlib.pyplot as plt\n",
    "import pdb\n",
    "\n",
    "import sys\n",
    "sys.path.append(\"../../\")\n",
    "import pyApproxTools as pat\n",
    "importlib.reload(pat)\n",
    "\n",
    "%matplotlib inline"
   ]
  },
  {
   "cell_type": "code",
   "execution_count": 3,
   "metadata": {},
   "outputs": [
    {
     "name": "stdout",
     "output_type": "stream",
     "text": [
      "K=10, N=4, U is dim (10, 4)\n"
     ]
    }
   ],
   "source": [
    "K = 10\n",
    "N = 4\n",
    "\n",
    "# First make a random orthonormal vector\n",
    "Psi_orig = sp.stats.ortho_group.rvs(dim=K)\n",
    "sigma = np.sort(np.random.random(K))[::-1]\n",
    "D_orig = np.diag(sigma**2)\n",
    "\n",
    "# This is the original covariance matrix!\n",
    "Cov_orig = Psi_orig * D_orig * Psi_orig.T\n",
    "\n",
    "points = np.random.multivariate_normal(np.zeros(K), Cov_orig, N)\n",
    "U = points.T\n",
    "print('K={0}, N={1}, U is dim {2}'.format(K,N,U.shape))"
   ]
  },
  {
   "cell_type": "markdown",
   "metadata": {},
   "source": [
    "In the above code we generate $N$ random points in $\\bbR^K$ that are distributed according to a randomly generated \"PCA construction\", that is a random ortho-basis ```Psi_orig``` and a randomly generated sequence ```sigma``` or ordered numbers between 0 and 1, from which ```Cov_orig``` is calculated in the obvious way, and $U$ are the multi-variate normal random numbers.\n",
    "\n",
    "### Now we calculate the PCA in two ways. First by factoring $\\bU^T \\bU$, second by factoring $\\bU\\bU^T$, but lets make sure we get the same quantities\n",
    "Recal $\\bU \\in \\bbR^{K\\times N}$. We are doing:\n",
    "\n",
    "$$\n",
    "\\bG =  \\bU \\bU^T  = \\bPsi \\bSigma^2 \\bPsi^T \\quad\\text{and}\\quad \\bC = \\bU^T \\bU = \\bPhi \\bSigma^2 \\bPhi^T\n",
    "$$\n",
    "\n",
    "and as $\\bU = \\bPsi \\bSigma \\bPhi^T$ we should be able to recover the first $N$ columns of $\\bPsi$ from the calculation \n",
    "\n",
    "$$\\bPsi = \\bU \\bPhi \\bSigma^{-1}$$ \n",
    "\n",
    "Recall $\\bPsi\\in\\bbR^{K\\times K}$, $\\bSigma\\in\\bbR^{N\\times K}$ and $\\bPhi \\in \\bbR^{N \\times N}$"
   ]
  },
  {
   "cell_type": "code",
   "execution_count": 13,
   "metadata": {},
   "outputs": [
    {
     "name": "stdout",
     "output_type": "stream",
     "text": [
      "Psi (first N columns):\n",
      "\n",
      " [[-0.02165112  0.24978483  0.47281743 -0.14225278]\n",
      " [-0.01752974  0.00949452  0.01979772 -0.14891587]\n",
      " [-0.27033968 -0.84239575  0.27523655  0.30770756]\n",
      " [-0.82690875  0.0569196  -0.47675846 -0.19785334]\n",
      " [ 0.33472656 -0.47069387 -0.2324029  -0.71302639]\n",
      " [-0.35829693  0.04943554  0.62922423 -0.44140978]\n",
      " [ 0.01041433  0.01762553  0.0124242  -0.34314388]\n",
      " [ 0.00485373 -0.01466851  0.01473459  0.01746618]\n",
      " [-0.04014061  0.00228673  0.15010597  0.04678117]\n",
      " [ 0.01415885  0.01092257 -0.01266612 -0.0163656 ]] \n",
      "\n",
      "U Phi Sigma_inv (first N columns, rest are 0):\n",
      "\n",
      " [[ 0.02165112 -0.24978483  0.47281743 -0.14225278]\n",
      " [ 0.01752974 -0.00949452  0.01979772 -0.14891587]\n",
      " [ 0.27033968  0.84239575  0.27523655  0.30770756]\n",
      " [ 0.82690875 -0.0569196  -0.47675846 -0.19785334]\n",
      " [-0.33472656  0.47069387 -0.2324029  -0.71302639]\n",
      " [ 0.35829693 -0.04943554  0.62922423 -0.44140978]\n",
      " [-0.01041433 -0.01762553  0.0124242  -0.34314388]\n",
      " [-0.00485373  0.01466851  0.01473459  0.01746618]\n",
      " [ 0.04014061 -0.00228673  0.15010597  0.04678117]\n",
      " [-0.01415885 -0.01092257 -0.01266612 -0.0163656 ]]\n"
     ]
    }
   ],
   "source": [
    "G = U.T @ U\n",
    "C = U @ U.T\n",
    "\n",
    "sigma_1, Phi = np.linalg.eigh(G)\n",
    "sigma_2, Psi = np.linalg.eigh(C)\n",
    "\n",
    "# Because NumPy outputs eigenvalues in reverse (increasing) order, we reverse\n",
    "sigma_1 = sigma_1[::-1]\n",
    "sigma_2 = sigma_2[::-1]\n",
    "Phi = Phi[:,::-1]\n",
    "Psi = Psi[:,::-1]\n",
    "\n",
    "# Embed the singular values diagonally in the appropriate (K x N) matrix\n",
    "Sigma_inv = np.pad(np.diag(1.0/np.sqrt(sigma_1)), ((0,K-N), (0, 0)), 'constant')\n",
    "\n",
    "print('Psi (first N columns):\\n\\n', Psi[:,:N], \n",
    "      '\\n\\nU Phi Sigma_inv (first N columns, rest are 0):\\n\\n', U @ Phi @ Sigma_inv.T[:,:N])"
   ]
  },
  {
   "cell_type": "markdown",
   "metadata": {},
   "source": [
    "In the above results we see that the first $N$ columns of $\\bPsi$ is recovered from the calculation of $\\bU \\bPhi \\bSigma^{-1}$, up to a difference of sign. The difference of sign is due to the ambiguity of sign in the SVD decomposition, we can see for example that $ \\psi_i \\sigma_i \\phi_j^T = (-\\psi_i) \\sigma_i (-\\phi_j)^T$. \n",
    "\n",
    "My point in showing this is that the $N$-dimensional basis $[\\psi_1,\\ldots,\\psi_N]$ of the best-fit PCA basis can be found purely from the matrix $\\bG_{i,j} = \\langle u_i - \\bar{u}, u_j - \\bar{u} \\rangle$ (noting above that we've assumed that $\\bar{u} = 0$). This is a much smaller $N\\times N$ calculation and doesn't require some pre-built orthonormal basis of $V$. Now, the problem is of course extending to the rest of the columns of $\\Psi$, so that we can do the calculations of the sub-matrices of $S$ or $T$."
   ]
  },
  {
   "cell_type": "code",
   "execution_count": 5,
   "metadata": {},
   "outputs": [
    {
     "name": "stdout",
     "output_type": "stream",
     "text": [
      "Sigma from G:        [0.88510719 0.34664984 0.30016335 0.04373008] ...\n",
      "Sigma from C:        [8.85107187e-01 3.46649844e-01 3.00163353e-01 4.37300842e-02\n",
      " 8.86574883e-18] ...\n",
      "Sigma from SVD:      [0.88510719 0.34664984 0.30016335 0.04373008]\n",
      "(Psi.T @ U @ Phi)^2: [0.88510719 0.34664984 0.30016335 0.04373008]\n",
      "\n",
      "Psi is dim    (10, 10)\n",
      "Phi is dim    (4, 4)\n",
      "Sigma is dim  (10, 4) \n",
      "\n",
      "U:                  \n",
      " [[ 0.02036941 -0.14706575  0.25904327 -0.02974753]\n",
      " [ 0.016492   -0.00559009  0.01084661 -0.0311409 ]\n",
      " [ 0.25433593  0.49597715  0.15079431  0.064347  ]\n",
      " [ 0.77795687 -0.03351254 -0.26120245 -0.04137458]\n",
      " [-0.3149112   0.27713033 -0.12732696 -0.14910622]\n",
      " [ 0.33708623 -0.02910615  0.34473412 -0.09230646]\n",
      " [-0.00979782 -0.01037738  0.00680686 -0.07175735]\n",
      " [-0.00456639  0.00863638  0.00807267  0.00365248]\n",
      " [ 0.03776434 -0.00134636  0.0822388   0.00978276]\n",
      " [-0.01332067 -0.00643088 -0.00693941 -0.00342233]]\n",
      "Psi Sigma Phi^T:    \n",
      " [[-0.02036941  0.14706575  0.25904327 -0.02974753]\n",
      " [-0.016492    0.00559009  0.01084661 -0.0311409 ]\n",
      " [-0.25433593 -0.49597715  0.15079431  0.064347  ]\n",
      " [-0.77795687  0.03351254 -0.26120245 -0.04137458]\n",
      " [ 0.3149112  -0.27713033 -0.12732696 -0.14910622]\n",
      " [-0.33708623  0.02910615  0.34473412 -0.09230646]\n",
      " [ 0.00979782  0.01037738  0.00680686 -0.07175735]\n",
      " [ 0.00456639 -0.00863638  0.00807267  0.00365248]\n",
      " [-0.03776434  0.00134636  0.0822388   0.00978276]\n",
      " [ 0.01332067  0.00643088 -0.00693941 -0.00342233]] \n",
      "\n"
     ]
    }
   ],
   "source": [
    "# A few further sanity checks here:\n",
    "U1,Sig,V1 = np.linalg.svd(U)\n",
    "Sigma = np.pad(np.diag(np.sqrt(sigma_1)), ((0,K-N), (0, 0)), 'constant')\n",
    "\n",
    "print('Sigma from G:       ', sigma_1[:5], '...')\n",
    "print('Sigma from C:       ', sigma_2[:5], '...')\n",
    "print('Sigma from SVD:     ', Sig*Sig)\n",
    "print('(Psi.T @ U @ Phi)^2:', np.diag(Psi.T @ U @ Phi)**2)\n",
    "print('')\n",
    "print('Psi is dim   ', Psi.shape)\n",
    "print('Phi is dim   ', Phi.shape)\n",
    "print('Sigma is dim ', Sigma.shape, '\\n')\n",
    "\n",
    "print('U:                  \\n', U @ Phi)\n",
    "print('Psi Sigma Phi^T:    \\n', (Psi) @ Sigma, '\\n')"
   ]
  },
  {
   "cell_type": "code",
   "execution_count": null,
   "metadata": {},
   "outputs": [],
   "source": []
  }
 ],
 "metadata": {
  "kernelspec": {
   "display_name": "Python 3",
   "language": "python",
   "name": "python3"
  },
  "language_info": {
   "codemirror_mode": {
    "name": "ipython",
    "version": 3
   },
   "file_extension": ".py",
   "mimetype": "text/x-python",
   "name": "python",
   "nbconvert_exporter": "python",
   "pygments_lexer": "ipython3",
   "version": "3.6.1"
  }
 },
 "nbformat": 4,
 "nbformat_minor": 2
}
