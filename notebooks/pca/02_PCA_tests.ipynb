{
 "cells": [
  {
   "cell_type": "markdown",
   "metadata": {},
   "source": [
    "$\\def \\dot #1#2{\\left\\langle #1, #2 \\right\\rangle}$\n",
    "$\\def \\adot #1#2{\\left\\langle #1, #2 \\right\\rangle}$\n",
    "$\\def \\cD {\\mathcal{D}}$\n",
    "$\\def \\cW {\\mathcal{W}}$\n",
    "$\\def \\bc {\\mathbf{c}}$\n",
    "$\\def \\bv {\\mathbf{v}}$\n",
    "$\\def \\bG {\\mathbf{G}}$\n",
    "$\\def \\bC {\\mathbf{C}}$\n",
    "$\\def \\bS {\\mathbf{S}}$\n",
    "$\\def \\bT {\\mathbf{T}}$\n",
    "$\\def \\bU {\\mathbf{U}}$\n",
    "$\\def \\bV {\\mathbf{V}}$\n",
    "$\\def \\bW {\\mathbf{W}}$\n",
    "$\\def \\bPhi {\\mathbf{\\Phi}}$\n",
    "$\\def \\bPsi {\\mathbf{\\Psi}}$\n",
    "$\\def \\bGamma {\\mathbf{\\Gamma}}$\n",
    "$\\def \\bSigma {\\mathbf{\\Sigma}}$\n",
    "$\\def \\bTheta {\\mathbf{\\Theta}}$\n",
    "$\\def \\bOmega {\\mathbf{\\Omega}}$\n",
    "$\\def \\bbE {\\mathbb{E}}$\n",
    "$\\def \\bbP {\\mathbb{P}}$\n",
    "$\\def \\bbR {\\mathbb{R}}$\n",
    "$\\def \\bbN {\\mathbb{N}}$\n",
    "\n",
    "# Demonstrating my PCA decomposition\n",
    "\n",
    "From a snapshot set $\\{ u_i \\}_{i=1}^N$, how do we derive the proper PCA fit, noting that the covariance is properly defined as\n",
    "\n",
    "$$\n",
    "\\langle v, C w \\rangle := \\mathbb{E}(\\langle u, v \\rangle \\langle u, w \\rangle) \n",
    "$$\n",
    "\n",
    "but here we use the approximate (empirical) covariance:\n",
    "$$\n",
    "\\langle v, C w \\rangle = \\frac{1}{N} \\sum_{i=1}^N \\langle u_i, v \\rangle \\langle u_i, w \\rangle\n",
    "$$\n",
    "\n",
    "What I actually did was the eigen-decomposition of the Gram matrix $\\mathbf{G}$, where $G_{i,j} = \\langle u_i, u_j \\rangle$, and used this to build the \"PCA\", but apparently that wasn't right... Well, lets see. \n",
    "\n",
    "Note firstly that $C: V \\to V$ and $\\bG : \\mathbb{R}^N \\to \\mathbb{R}^N$. Let's take the case $V=\\mathbb{R}^K$ to  make things a bit simpler, then we have $\\bC: \\bbR^K \\to \\bbR^K$ and our empirical covariance is\n",
    "\n",
    "$$\n",
    "\\langle v, \\bC w \\rangle = v^T \\bC w = \\frac{1}{N} \\sum_{i=1}^N \\langle u_i, v \\rangle \\langle u_i, w \\rangle = \\frac{1}{N} \\sum_{i=1}^N (u_i^T v)^T ( u_i^T w)\n",
    "$$\n",
    "\n",
    "Let us write $\\bU = [u_1, u_2, \\ldots, u_N] \\in \\bbR^{K\\times N}$, so we have from the above\n",
    "\n",
    "$$\n",
    "v^T \\bC w = v^T \\bU \\bU^T w,\n",
    "$$\n",
    "\n",
    "so indeed as we wrote on the board the other day we have that $\\bC$ is the outer-product matrix of $\\bU$. Note in this case also we have the Gram matrix $\\bG = \\bU^T \\bU$. \n",
    "\n",
    "There's the SVD decomposition of $\\bU = \\bPhi \\bSigma \\bTheta^T$, with $\\bPhi\\in\\bbR^{K\\times K}$, $\\bSigma\\in\\bbR^{N\\times K}$ and $\\bTheta \\in \\bbR^{N \\times N}$. We may have fewer than $N$ singular values. Both $\\bC$ and $\\bG$ are evidently symmetric matrices and they decompose as\n",
    "\n",
    "$$\n",
    "\\bC =  \\bU \\bU^T  = \\bPhi \\bSigma \\bSigma^T \\bPhi^T \\quad\\text{and}\\quad \\bG = \\bU^T \\bU = \\bTheta \\bSigma^T \\bSigma \\bTheta^T\n",
    "$$\n",
    "\n",
    "Note that $\\bSigma \\bSigma^T$ is a diagonal $K\\times K$ matrix, while $\\bSigma^T \\bSigma$ is $N\\times N$, they both are diagonal with $\\sigma_i^2$ along the diagonal.\n",
    "\n",
    "Now, we have that $\\bPhi = \\bU \\bTheta \\bSigma^{-1}$. I'm reasonably sure this all applies if we consider a more general $V$, with of course the addition of an operator $E : v \\to \\bbR^K$ that maps from a canonical ortho basis to the coordinates. But this doesn't complicate things too much.\n",
    "\n",
    "First let us test this all in $\\bbR^K$ for some moderate $K$."
   ]
  },
  {
   "cell_type": "code",
   "execution_count": 1,
   "metadata": {},
   "outputs": [],
   "source": [
    "import numpy as np\n",
    "import scipy as sp\n",
    "import importlib\n",
    "import seaborn as sns\n",
    "import matplotlib.pyplot as plt\n",
    "import pdb\n",
    "\n",
    "import sys\n",
    "sys.path.append(\"../../\")\n",
    "import pyApproxTools as pat\n",
    "importlib.reload(pat)\n",
    "\n",
    "%matplotlib inline"
   ]
  },
  {
   "cell_type": "code",
   "execution_count": 2,
   "metadata": {},
   "outputs": [
    {
     "name": "stdout",
     "output_type": "stream",
     "text": [
      "K=10, N=4, U is dim (10, 4)\n"
     ]
    }
   ],
   "source": [
    "K = 10\n",
    "N = 4\n",
    "\n",
    "# First make a random orthonormal vector\n",
    "Phi_orig = sp.stats.ortho_group.rvs(dim=K)\n",
    "sigma = np.sort(np.random.random(K))[::-1]\n",
    "D_orig = np.diag(sigma**2)\n",
    "\n",
    "# This is the original covariance matrix!\n",
    "Cov_orig = Phi_orig * D_orig * Phi_orig.T\n",
    "\n",
    "points = np.random.multivariate_normal(np.zeros(K), Cov_orig, N)\n",
    "U = points.T\n",
    "print('K={0}, N={1}, U is dim {2}'.format(K,N,U.shape))"
   ]
  },
  {
   "cell_type": "markdown",
   "metadata": {},
   "source": [
    "In the above code we generate $N$ random points in $\\bbR^K$ that are distributed according to a randomly generated \"PCA construction\", that is a random ortho-basis ```Psi_orig``` and a randomly generated sequence ```sigma``` or ordered numbers between 0 and 1, from which ```Cov_orig``` is calculated in the obvious way, and $U$ are the multi-variate normal random numbers.\n",
    "\n",
    "### Now we calculate the PCA in two ways. First by factoring $\\bU^T \\bU$, second by factoring $\\bU\\bU^T$, but lets make sure we get the same quantities\n",
    "Recal $\\bU \\in \\bbR^{K\\times N}$. We are doing:\n",
    "\n",
    "$$\n",
    "\\bC =  \\bU \\bU^T  = \\bPhi \\bSigma \\bSigma^T \\bPhi^T \\quad\\text{and}\\quad \\bG = \\bU^T \\bU = \\bTheta \\bSigma^T \\bSigma \\bTheta^T\n",
    "$$\n",
    "\n",
    "and as $\\bU = \\bPhi \\bSigma \\bTheta^T$ we should be able to recover the first $N$ columns of $\\bPhi$ from the calculation \n",
    "\n",
    "$$\\bPhi = \\bU \\bTheta \\bSigma^{-1}$$ \n",
    "\n",
    "Recall $\\bPhi\\in\\bbR^{K\\times K}$, $\\bSigma\\in\\bbR^{N\\times K}$ and $\\bTheta \\in \\bbR^{N \\times N}$"
   ]
  },
  {
   "cell_type": "code",
   "execution_count": 9,
   "metadata": {},
   "outputs": [
    {
     "name": "stdout",
     "output_type": "stream",
     "text": [
      "Phi (first N=4 columns):\n",
      "\n",
      " [[-8.06115876e-01  1.21752261e-02 -5.29221262e-02 -4.17588959e-01]\n",
      " [-4.08308917e-01  6.57459470e-01 -1.25476584e-01  4.05830109e-01]\n",
      " [ 2.60923814e-01  4.30203315e-01 -1.63681295e-01  2.10125703e-01]\n",
      " [-2.27530694e-03  9.14011556e-03  7.89784069e-03 -2.44751114e-03]\n",
      " [ 2.74740015e-02 -3.01082793e-02  6.14697612e-01 -7.38292424e-02]\n",
      " [-1.99519167e-01 -3.68705967e-03  6.63342282e-01  2.37323012e-01]\n",
      " [-2.68586850e-01 -5.75330991e-01 -1.76901225e-01  7.00593946e-01]\n",
      " [-4.32472380e-03 -4.64953273e-03 -3.69273383e-02 -1.28714648e-01]\n",
      " [-5.15198121e-02 -2.24706244e-01 -3.22594311e-01 -2.18151732e-01]\n",
      " [ 6.26435124e-06 -9.62260285e-05 -1.86469656e-04 -3.11497290e-04]] \n",
      "\n",
      "U Theta Sigma_inv (first N columns, rest are 0):\n",
      "\n",
      " [[ 8.06115876e-01 -1.21752261e-02 -5.29221262e-02 -4.17588959e-01]\n",
      " [ 4.08308917e-01 -6.57459470e-01 -1.25476584e-01  4.05830109e-01]\n",
      " [-2.60923814e-01 -4.30203315e-01 -1.63681295e-01  2.10125703e-01]\n",
      " [ 2.27530694e-03 -9.14011556e-03  7.89784069e-03 -2.44751114e-03]\n",
      " [-2.74740015e-02  3.01082793e-02  6.14697612e-01 -7.38292424e-02]\n",
      " [ 1.99519167e-01  3.68705967e-03  6.63342282e-01  2.37323012e-01]\n",
      " [ 2.68586850e-01  5.75330991e-01 -1.76901225e-01  7.00593946e-01]\n",
      " [ 4.32472380e-03  4.64953273e-03 -3.69273383e-02 -1.28714648e-01]\n",
      " [ 5.15198121e-02  2.24706244e-01 -3.22594311e-01 -2.18151732e-01]\n",
      " [-6.26435124e-06  9.62260285e-05 -1.86469656e-04 -3.11497290e-04]]\n"
     ]
    }
   ],
   "source": [
    "G = U.T @ U\n",
    "C = U @ U.T\n",
    "\n",
    "sigma_1, Theta = np.linalg.eigh(G)\n",
    "sigma_2, Phi = np.linalg.eigh(C)\n",
    "\n",
    "# Because NumPy outputs eigenvalues in reverse (increasing) order, we reverse\n",
    "sigma_1 = sigma_1[::-1]\n",
    "sigma_2 = sigma_2[::-1]\n",
    "Theta = Theta[:,::-1]\n",
    "Phi = Phi[:,::-1]\n",
    "\n",
    "# Embed the singular values diagonally in the appropriate (K x N) matrix\n",
    "Sigma_inv = np.pad(np.diag(1.0/np.sqrt(sigma_1)), ((0,K-N), (0, 0)), 'constant')\n",
    "\n",
    "print('Phi (first N={0} columns):\\n\\n'.format(N), Phi[:,:N], \n",
    "      '\\n\\nU Theta Sigma_inv (first N columns, rest are 0):\\n\\n', U @ Theta @ Sigma_inv.T[:,:N])"
   ]
  },
  {
   "cell_type": "markdown",
   "metadata": {},
   "source": [
    "Thus we see that $\\bPhi = \\bU \\bTheta \\bSigma^{-1}$ for the first $N$ columns, up to a difference of sign. \n",
    "\n",
    "The difference of sign is due to the ambiguity of sign in the SVD decomposition, we can see for example that $ \\varphi_i \\sigma_i \\vartheta_j^T = (-\\varphi_i) \\sigma_i (-\\vartheta_j)^T$. \n",
    "\n",
    "My point in showing this is that the $N$-dimensional basis $[\\varphi_1,\\ldots,\\varphi_N]$ of the best-fit PCA basis can be found purely from the matrix $\\bG_{i,j} = \\langle u_i - \\bar{u}, u_j - \\bar{u} \\rangle$ (noting above that we've assumed that $\\bar{u} = 0$). This is a much smaller $N\\times N$ calculation and doesn't require some pre-built orthonormal basis of $V$. Now, the problem is of course extending to the rest of the columns of $\\bPhi$, so that we can do the calculations of the sub-matrices of $\\bS$ or $\\bT$.\n",
    "\n",
    "### Now we do just a few more sanity checks (e.g. that $\\sigma_j$ are the same from the decomposition of both $\\bG$ and $\\bC$)"
   ]
  },
  {
   "cell_type": "code",
   "execution_count": 4,
   "metadata": {},
   "outputs": [
    {
     "name": "stdout",
     "output_type": "stream",
     "text": [
      "Sigma from G:        [6.06564709 0.79465209 0.21296188 0.11724135] ...\n",
      "Sigma from C:        [6.06564709e+00 7.94652090e-01 2.12961884e-01 1.17241354e-01\n",
      " 2.23382199e-16] ...\n",
      "Sigma from SVD:      [6.06564709 0.79465209 0.21296188 0.11724135]\n",
      "(Phi.T @ U @ Theta)^2: [6.06564709 0.79465209 0.21296188 0.11724135]\n",
      "\n",
      "Phi is dim    (10, 10)\n",
      "Theta is dim    (4, 4)\n",
      "Sigma is dim  (10, 4) \n",
      "\n",
      "U:                  \n",
      " [[-2.34624947e+00 -2.57194070e-02 -1.16881295e-01  3.89291844e-02]\n",
      " [ 2.20005333e-01 -3.18789073e-01  5.15253195e-03  7.71556582e-02]\n",
      " [-3.08373492e-01 -4.18901068e-01  1.72311121e-01 -2.00571928e-01]\n",
      " [ 3.33481448e-02  3.57466481e-03 -8.16242592e-03  3.65388113e-02]\n",
      " [-7.83196588e-02  7.08234735e-01  6.82380712e-02 -5.58631334e-02]\n",
      " [-3.66133333e-01  1.14965595e-01  5.70304594e-02 -2.13776661e-01]\n",
      " [ 5.08524518e-01 -4.02369507e-02 -3.97832961e-01 -1.39117890e-01]\n",
      " [-1.26567769e-01  5.87211359e-03 -5.60247799e-02  5.39141646e-03]\n",
      " [ 2.34781089e-04 -1.62438253e-04 -4.71005816e-04 -7.31323150e-04]\n",
      " [-3.67101660e-02  2.01543290e-02  1.40492285e-02 -2.03815297e-03]]\n",
      "Phi Sigma Theta^T:    \n",
      " [[-2.34624947e+00  2.57194070e-02  1.16881295e-01 -3.89291844e-02]\n",
      " [ 2.20005333e-01  3.18789073e-01 -5.15253195e-03 -7.71556582e-02]\n",
      " [-3.08373492e-01  4.18901068e-01 -1.72311121e-01  2.00571928e-01]\n",
      " [ 3.33481448e-02 -3.57466481e-03  8.16242592e-03 -3.65388113e-02]\n",
      " [-7.83196588e-02 -7.08234735e-01 -6.82380712e-02  5.58631334e-02]\n",
      " [-3.66133333e-01 -1.14965595e-01 -5.70304594e-02  2.13776661e-01]\n",
      " [ 5.08524518e-01  4.02369507e-02  3.97832961e-01  1.39117890e-01]\n",
      " [-1.26567769e-01 -5.87211359e-03  5.60247799e-02 -5.39141646e-03]\n",
      " [ 2.34781089e-04  1.62438253e-04  4.71005816e-04  7.31323150e-04]\n",
      " [-3.67101660e-02 -2.01543290e-02 -1.40492285e-02  2.03815297e-03]] \n",
      "\n"
     ]
    }
   ],
   "source": [
    "# A few further sanity checks here:\n",
    "U1,Sig,V1 = np.linalg.svd(U)\n",
    "Sigma = np.pad(np.diag(np.sqrt(sigma_1)), ((0,K-N), (0, 0)), 'constant')\n",
    "\n",
    "print('Sigma from G:       ', sigma_1[:5], '...')\n",
    "print('Sigma from C:       ', sigma_2[:5], '...')\n",
    "print('Sigma from SVD:     ', Sig*Sig)\n",
    "print('(Phi.T @ U @ Theta)^2:', np.diag(Phi.T @ U @ Theta)**2)\n",
    "print('')\n",
    "print('Phi is dim   ', Phi.shape)\n",
    "print('Theta is dim   ', Theta.shape)\n",
    "print('Sigma is dim ', Sigma.shape, '\\n')\n",
    "\n",
    "print('U:                  \\n', U @ Theta)\n",
    "print('Phi Sigma Theta^T:    \\n', (Phi) @ Sigma, '\\n')"
   ]
  },
  {
   "cell_type": "code",
   "execution_count": null,
   "metadata": {},
   "outputs": [],
   "source": []
  }
 ],
 "metadata": {
  "kernelspec": {
   "display_name": "Python 3",
   "language": "python",
   "name": "python3"
  },
  "language_info": {
   "codemirror_mode": {
    "name": "ipython",
    "version": 3
   },
   "file_extension": ".py",
   "mimetype": "text/x-python",
   "name": "python",
   "nbconvert_exporter": "python",
   "pygments_lexer": "ipython3",
   "version": "3.6.1"
  }
 },
 "nbformat": 4,
 "nbformat_minor": 2
}
