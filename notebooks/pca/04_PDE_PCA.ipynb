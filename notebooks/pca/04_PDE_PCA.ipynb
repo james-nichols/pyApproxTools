{
 "cells": [
  {
   "cell_type": "markdown",
   "metadata": {},
   "source": [
    "$\\def \\dot #1#2{\\left\\langle #1, #2 \\right\\rangle}$\n",
    "$\\def \\adot #1#2{\\left\\langle #1, #2 \\right\\rangle}$\n",
    "$\\def \\cA {\\mathcal{A}}$\n",
    "$\\def \\cD {\\mathcal{D}}$\n",
    "$\\def \\cM {\\mathcal{M}}$\n",
    "$\\def \\cN {\\mathcal{N}}$\n",
    "$\\def \\cW {\\mathcal{W}}$\n",
    "$\\def \\bc {\\mathbf{c}}$\n",
    "$\\def \\bu {\\mathbf{u}}$\n",
    "$\\def \\bv {\\mathbf{v}}$\n",
    "$\\def \\bw {\\mathbf{w}}$\n",
    "$\\def \\bG {\\mathbf{G}}$\n",
    "$\\def \\bC {\\mathbf{C}}$\n",
    "$\\def \\bD {\\mathbf{D}}$\n",
    "$\\def \\bI {\\mathbf{I}}$\n",
    "$\\def \\bP {\\mathbf{P}}$\n",
    "$\\def \\bQ {\\mathbf{Q}}$\n",
    "$\\def \\bR {\\mathbf{R}}$\n",
    "$\\def \\bS {\\mathbf{S}}$\n",
    "$\\def \\bT {\\mathbf{T}}$\n",
    "$\\def \\bU {\\mathbf{U}}$\n",
    "$\\def \\bV {\\mathbf{V}}$\n",
    "$\\def \\bW {\\mathbf{W}}$\n",
    "$\\def \\bPhi {\\mathbf{\\Phi}}$\n",
    "$\\def \\bPsi {\\mathbf{\\Psi}}$\n",
    "$\\def \\bGamma {\\mathbf{\\Gamma}}$\n",
    "$\\def \\bSigma {\\mathbf{\\Sigma}}$\n",
    "$\\def \\bTheta {\\mathbf{\\Theta}}$\n",
    "$\\def \\bOmega {\\mathbf{\\Omega}}$\n",
    "$\\def \\bbE {\\mathbb{E}}$\n",
    "$\\def \\bbP {\\mathbb{P}}$\n",
    "$\\def \\bbR {\\mathbb{R}}$\n",
    "$\\def \\bbN {\\mathbb{N}}$\n",
    "\n",
    "# Now let us consider the PDE problem \n",
    "\n",
    "We compute $N$ snapshots, we truncate the PCA at some $n$, we calculate $\\bC$ and the associated PCA decomposition"
   ]
  },
  {
   "cell_type": "code",
   "execution_count": 1,
   "metadata": {},
   "outputs": [],
   "source": [
    "import numpy as np\n",
    "import scipy as sp\n",
    "import importlib\n",
    "import seaborn as sns\n",
    "import matplotlib.pyplot as plt\n",
    "import pdb\n",
    "\n",
    "import sys\n",
    "sys.path.append(\"../../\")\n",
    "import pyApproxTools as pat\n",
    "importlib.reload(pat)\n",
    "\n",
    "%matplotlib inline\n",
    "\n",
    "# Constants taken throughout this workbook\n",
    "fem_div = 7\n",
    "a_bar = 1.0\n",
    "c = 0.9\n",
    "field_div = 2\n",
    "side_n = 2**field_div"
   ]
  },
  {
   "cell_type": "markdown",
   "metadata": {},
   "source": [
    "### Generate our dictionary of points. Effectively this is what our PCA will be computed from"
   ]
  },
  {
   "cell_type": "code",
   "execution_count": 2,
   "metadata": {},
   "outputs": [],
   "source": [
    "N = int(1e3)\n",
    "np.random.seed(1)\n",
    "\n",
    "dict_basis, dict_fields = pat.make_pw_reduced_basis(N, field_div, fem_div, a_bar=a_bar, c=c, f=1.0, verbose=False)\n",
    "dictionary = dict_basis.vecs"
   ]
  },
  {
   "cell_type": "code",
   "execution_count": 3,
   "metadata": {},
   "outputs": [],
   "source": [
    "# local_width is the width of the measurement squares in terms of FEM mesh squares\n",
    "width_div = 1\n",
    "local_width = 2**width_div\n",
    "spacing_div = 4\n",
    "\n",
    "Wm_reg, Wloc_reg = pat.make_local_avg_grid_basis(width_div, spacing_div, fem_div, return_map=True)\n",
    "Wm_reg = Wm_reg.orthonormalise()\n",
    "\n",
    "m = Wm_reg.n\n",
    "\n",
    "Wm_rand, Wloc = pat.make_pw_local_avg_random_basis(m=m, div=fem_div, width=local_width, return_map=True)\n",
    "Wm_rand = Wm_rand.orthonormalise()"
   ]
  },
  {
   "cell_type": "markdown",
   "metadata": {},
   "source": [
    "Once again we define the operators $U :\\bbR^N\\to V$ as $U x = \\sum_{i=1}^N x_i u_i$ and evidently $U^* v = (\\langle u_i, v \\rangle_V )_{i=1}^N$. We have $C = U U^*$ and $G = U^* U$. It is straightforward to see that $G$ is represented by a matrix $(\\bG)_{i,j} = \\langle u_i, u_j \\rangle$.\n",
    "\n",
    "Now - this is where things are a little sensitive. Say that $V_n = \\mathrm{span}(u_1,\\ldots,u_N)$, clearly $n\\le N$. Now, $v = P_{V_n} v + P_{V_n^\\perp}v$, and obviously $U^* P_{V_n^\\perp} = 0$\n",
    "\n",
    "\n",
    "$$\n",
    "\\bC =  \\bU \\bU^T  = \\bPhi \\bSigma \\bSigma^T \\bPhi^T \\quad\\text{and}\\quad \\bG = \\bU^T \\bU = \\bTheta \\bSigma^T \\bSigma \\bTheta^T\n",
    "$$\n",
    "\n",
    "Note that $\\bSigma \\bSigma^T$ is a diagonal $K\\times K$ matrix, while $\\bSigma^T \\bSigma$ is $N\\times N$, they both are diagonal with $\\sigma_i^2$ along the diagonal.\n",
    "\n",
    "Now, we have that $\\bPhi = \\bU \\bTheta \\bSigma^{-1}$. I'm reasonably sure this all applies if we consider a more general $V$, with of course the addition of an operator $E : v \\to \\bbR^K$ that maps from a canonical ortho basis to the coordinates. But this doesn't complicate things too much.\n",
    "\n",
    "First let us test this all in $\\bbR^K$ for some moderate $K$."
   ]
  },
  {
   "cell_type": "code",
   "execution_count": null,
   "metadata": {},
   "outputs": [],
   "source": [
    "u0 = dict_basis.reconstruct(np.ones(N) / N)\n",
    "\n",
    "import copy\n",
    "\n",
    "cent_vecs = copy.deepcopy(dict_basis.vecs)\n",
    "for i in range(len(cent_vecs)):\n",
    "    cent_vecs[i] = cent_vecs[i] - u0\n",
    "\n",
    "dict_basis = pat.PWBasis(cent_vecs)\n",
    "dict_basis.make_grammian()\n",
    "\n",
    "lam, V = np.linalg.eigh(dict_basis.G)\n",
    "PCA_vecs = [u0]\n",
    "for i, v in enumerate(np.flip(V.T, axis=0)[:m]):\n",
    "    vec = dict_basis_small_cent.reconstruct(v)\n",
    "    PCA_vecs.append(vec / vec.norm())\n",
    "\n",
    "Vn_PCA = pat.PWBasis(PCA_vecs)\n",
    "\n"
   ]
  }
 ],
 "metadata": {
  "kernelspec": {
   "display_name": "Python 3",
   "language": "python",
   "name": "python3"
  },
  "language_info": {
   "codemirror_mode": {
    "name": "ipython",
    "version": 3
   },
   "file_extension": ".py",
   "mimetype": "text/x-python",
   "name": "python",
   "nbconvert_exporter": "python",
   "pygments_lexer": "ipython3",
   "version": "3.6.1"
  }
 },
 "nbformat": 4,
 "nbformat_minor": 2
}
