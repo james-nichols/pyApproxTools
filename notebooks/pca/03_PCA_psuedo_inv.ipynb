{
 "cells": [
  {
   "cell_type": "markdown",
   "metadata": {},
   "source": [
    "$\\def \\dot #1#2{\\left\\langle #1, #2 \\right\\rangle}$\n",
    "$\\def \\adot #1#2{\\left\\langle #1, #2 \\right\\rangle}$\n",
    "$\\def \\cA {\\mathcal{A}}$\n",
    "$\\def \\cD {\\mathcal{D}}$\n",
    "$\\def \\cM {\\mathcal{M}}$\n",
    "$\\def \\cN {\\mathcal{N}}$\n",
    "$\\def \\cW {\\mathcal{W}}$\n",
    "$\\def \\bc {\\mathbf{c}}$\n",
    "$\\def \\bu {\\mathbf{u}}$\n",
    "$\\def \\bv {\\mathbf{v}}$\n",
    "$\\def \\bw {\\mathbf{w}}$\n",
    "$\\def \\bG {\\mathbf{G}}$\n",
    "$\\def \\bC {\\mathbf{C}}$\n",
    "$\\def \\bD {\\mathbf{D}}$\n",
    "$\\def \\bI {\\mathbf{I}}$\n",
    "$\\def \\bP {\\mathbf{P}}$\n",
    "$\\def \\bQ {\\mathbf{Q}}$\n",
    "$\\def \\bR {\\mathbf{R}}$\n",
    "$\\def \\bS {\\mathbf{S}}$\n",
    "$\\def \\bT {\\mathbf{T}}$\n",
    "$\\def \\bU {\\mathbf{U}}$\n",
    "$\\def \\bV {\\mathbf{V}}$\n",
    "$\\def \\bW {\\mathbf{W}}$\n",
    "$\\def \\bPhi {\\mathbf{\\Phi}}$\n",
    "$\\def \\bPsi {\\mathbf{\\Psi}}$\n",
    "$\\def \\bGamma {\\mathbf{\\Gamma}}$\n",
    "$\\def \\bSigma {\\mathbf{\\Sigma}}$\n",
    "$\\def \\bTheta {\\mathbf{\\Theta}}$\n",
    "$\\def \\bOmega {\\mathbf{\\Omega}}$\n",
    "$\\def \\bbE {\\mathbb{E}}$\n",
    "$\\def \\bbP {\\mathbb{P}}$\n",
    "$\\def \\bbR {\\mathbb{R}}$\n",
    "$\\def \\bbN {\\mathbb{N}}$\n",
    "\n",
    "## When $\\sigma_i = 0$ for $n< i \\le K$, then what does our pseudo-inverse approach yield?\n",
    "\n",
    "Again all tests are in $\\bbR^K$, and we have two random orthonormal bases and $(\\psi_1,\\ldots,\\psi_K)$ and $(\\varphi_1,\\ldots,\\varphi_K)$, along with the singular values / PCA values of $(\\sigma_1,\\ldots,\\sigma_n,0,\\ldots)$, i.e. we assume the PCA comes up short with only $n$ dimensions (or that they are so small they should be truncated, which helps for stability of the final systems).\n",
    "\n",
    "We assume further that the measurement space $W = \\mathrm{span}(\\psi_1,\\ldots,\\psi_m)$ and $W_\\perp = \\mathrm{span}(\\psi_{m+1},\\ldots,\\psi_K)$, and we write $V = \\mathrm{span}(\\varphi_1,\\ldots,\\varphi_n)$.\n",
    "\n",
    "We have the matrix $\\bPhi = [\\varphi_1 \\ldots \\varphi_K]$ and $\\bPsi = [\\psi_1\\,\\ldots\\,\\psi_K]$, where the basis vectors are the columns of the matrices. Finally we write $\\bW = [\\psi_1\\,\\ldots\\,\\psi_m]$, $\\bW_\\perp = [\\psi_{m+1}\\,\\ldots\\,\\psi_K]$ and $\\bV = [\\varphi_{1}\\,\\ldots\\,\\varphi_n]$. For the cross-Grammian we have $\\bG = \\bPhi^T \\bPsi$.\n",
    "\n",
    "Now, $\\bT = \\bG^T \\bD^{-1} \\bG = \\bPsi^T \\bPhi \\bSigma^{-2} \\bPhi^T \\bPsi$, the diagonal matrix $\\bSigma = \\mathrm{diag}(\\sigma_1,\\ldots,\\sigma_n,0\\ldots)$. Note also that, using the above notation $\\bPsi = \\begin{bmatrix} \\bW & \\bW_\\perp \\end{bmatrix}$, so in fact\n",
    "\n",
    "$$ \\bS = \\begin{bmatrix} \\bW^T\\bPhi \\\\ \\bW_\\perp^T\\bPhi \\end{bmatrix} \\bSigma^{2} \\begin{bmatrix} \\bPhi^T \\bW & \\bPhi^T \\bW_\\perp \\end{bmatrix} = \\begin{bmatrix} \\bW^T \\bPhi \\bSigma^{2} \\bPhi^T \\bW & \\bW^T \\bPhi \\bSigma^{2} \\bPhi^T \\bW_\\perp \\\\ \\bW_\\perp^T \\bPhi \\bSigma^{2} \\bPhi^T \\bW & \\bW_\\perp^T \\bPhi \\bSigma^{2} \\bPhi^T \\bW_\\perp \\end{bmatrix} $$\n",
    "\n",
    "and similar for $\\bT$ (except with $\\bSigma^{-2}$).\n",
    "\n",
    "which give us the expressions for $\\bS_{1,1}$, $\\bT_{1,1}$, $\\bT_{1,2}$ etc.. The issue here is that $\\bS_{1,1}$ or $\\bT_{2,2}$ may no longer invertible as \n",
    "\n",
    "$$\\bS_{1,1} = \\bW^T \\bPhi \\bSigma^{2} \\bPhi^T \\bW =\\bW^T \\bV \\bSigma_n^{2} \\bV^T \\bW$$\n",
    "\n",
    "$$\\bT_{2,2} = \\bW_\\perp^T \\bPhi \\bSigma^{-2} \\bPhi^T \\bW_\\perp =\\bW_\\perp^T \\bV \\bSigma_n^{-2} \\bV^T \\bW_\\perp$$\n",
    "\n",
    "which are both of rank at most $n$. "
   ]
  },
  {
   "cell_type": "code",
   "execution_count": 1,
   "metadata": {},
   "outputs": [],
   "source": [
    "import numpy as np\n",
    "import scipy as sp\n",
    "import seaborn as sns\n",
    "import matplotlib.pyplot as plt\n",
    "from IPython.display import Latex, display\n",
    "\n",
    "import sys\n",
    "\n",
    "%matplotlib inline\n",
    "np.random.seed(1)"
   ]
  },
  {
   "cell_type": "code",
   "execution_count": 2,
   "metadata": {},
   "outputs": [],
   "source": [
    "K = 100  # The dimensionality of the ambient space (can be up to 2^16 for FEM solutions)\n",
    "n = K    # The truncation dimension of the PCA / embedding dimension of the manifold \n",
    "m = 6    # The dimension off the measurement space\n",
    "\n",
    "# First make two random orthonormal vector bases\n",
    "Phi = sp.stats.ortho_group.rvs(dim=K) # The \"PCA\" space\n",
    "Psi = sp.stats.ortho_group.rvs(dim=K) # The \"measurement\" space\n",
    "\n",
    "sigma = np.sort(np.random.random(n))[::-1]\n",
    "sigma[n:] = 0\n",
    "Sigma = np.pad(np.diag(sigma), ((0,K-n),(0,K-n)), 'constant')\n",
    "Sigma_inv = np.pad(np.diag(1.0/sigma), ((0,K-n),(0,K-n)), 'constant')\n",
    "Sigma_n = np.diag(sigma)\n",
    "Sigma_n_inv = np.diag(1.0/sigma)\n",
    "\n",
    "V = Phi[:,:n]\n",
    "W = Psi[:,:m]\n",
    "W_p = Psi[:,m:]\n",
    "\n",
    "T = Psi.T @ Phi @ Sigma_inv @ Sigma_inv @ Phi.T @ Psi\n",
    "S = Psi.T @ Phi @ Sigma @ Sigma @ Phi.T @ Psi"
   ]
  },
  {
   "cell_type": "markdown",
   "metadata": {},
   "source": [
    "### First test (which appears to pass)\n",
    "Checking that $\\bS_{1,1} = \\bW^T \\bPhi \\bSigma^{2} \\bPhi^T \\bW =\\bW^T \\bV \\bSigma_n^{2} \\bV^T \\bW$\n",
    "\n",
    "and $\\bT_{2,2} = \\bW_\\perp^T \\bPhi \\bSigma^{-2} \\bPhi^T \\bW_\\perp =\\bW_\\perp^T \\bV \\bSigma_n^{-2} \\bV^T \\bW_\\perp$, etc..."
   ]
  },
  {
   "cell_type": "code",
   "execution_count": 3,
   "metadata": {},
   "outputs": [
    {
     "name": "stdout",
     "output_type": "stream",
     "text": [
      "T_21 of shape (94, 6), rank 6, condition 265.7405087857795\n",
      "T_22 of shape (94, 94), rank 94, condition 78211.85097360454\n",
      "\n",
      "S_11 of shape (6, 6), rank 6, condition 1.8115596222028791\n",
      "S_21 of shape (94, 6), rank 6, condition 1.4118293813471612\n",
      "S_22 of shape (94, 94), rank 94, condition 2715.7848082715414\n",
      "\n"
     ]
    },
    {
     "data": {
      "text/latex": [
       "$\\left\\| \\bT_{2,1} - \\bW_\\perp^T \\bV \\bSigma^{-2} \\bV^T \\bW \\right\\|_F =$ 1.0562113847261398e-11"
      ],
      "text/plain": [
       "<IPython.core.display.Latex object>"
      ]
     },
     "metadata": {},
     "output_type": "display_data"
    },
    {
     "data": {
      "text/latex": [
       "$\\left\\| \\bS_{1,1} - \\bW^T \\bV \\bSigma^{2} \\bV^T \\bW \\right\\|_F =$ 2.86361090220824e-16"
      ],
      "text/plain": [
       "<IPython.core.display.Latex object>"
      ]
     },
     "metadata": {},
     "output_type": "display_data"
    },
    {
     "data": {
      "text/latex": [
       "$\\left\\| \\bS_{2,1} - \\bW_\\perp^T \\bV \\bSigma^{2} \\bV^T \\bW \\right\\|_F =$ 3.4960246471205157e-16"
      ],
      "text/plain": [
       "<IPython.core.display.Latex object>"
      ]
     },
     "metadata": {},
     "output_type": "display_data"
    }
   ],
   "source": [
    "T21 = T[m:, :m]\n",
    "T22 = T[m:, m:]\n",
    "S11 = S[:m, :m]\n",
    "S21 = S[m:, :m]\n",
    "S22 = S[m:, m:]\n",
    "\n",
    "T22_alt = W_p.T @ V @ Sigma_n_inv @ Sigma_n_inv @ V.T @ W_p\n",
    "T21_alt = W_p.T @ V @ Sigma_n_inv @ Sigma_n_inv @ V.T @ W\n",
    "S11_alt = W.T @ V @ Sigma_n @ Sigma_n @ V.T @ W\n",
    "S22_alt = W_p.T @ V @ Sigma_n @ Sigma_n @ V.T @ W_p\n",
    "S21_alt = W_p.T @ V @ Sigma_n @ Sigma_n @ V.T @ W\n",
    "\n",
    "print('T_21 of shape {0}, rank {1}, condition {2}'.format(T21.shape, np.linalg.matrix_rank(T21), np.linalg.cond(T21)))\n",
    "print('T_22 of shape {0}, rank {1}, condition {2}\\n'.format(T22.shape, np.linalg.matrix_rank(T22), np.linalg.cond(T22)))\n",
    "print('S_11 of shape {0}, rank {1}, condition {2}'.format(S11.shape, np.linalg.matrix_rank(S11), np.linalg.cond(S11)))\n",
    "print('S_21 of shape {0}, rank {1}, condition {2}'.format(S21.shape, np.linalg.matrix_rank(S21), np.linalg.cond(S21)))\n",
    "print('S_22 of shape {0}, rank {1}, condition {2}\\n'.format(S22.shape, np.linalg.matrix_rank(S22), np.linalg.cond(S22)))\n",
    "\n",
    "# Just to check\n",
    "display(Latex(r'$\\left\\| \\bT_{{2,1}} - \\bW_\\perp^T \\bV \\bSigma^{{-2}} \\bV^T \\bW \\right\\|_F \\\n",
    "=$ {0}'.format(np.linalg.norm(T21 - T21_alt))))\n",
    "display(Latex(r'$\\left\\| \\bS_{{1,1}} - \\bW^T \\bV \\bSigma^{{2}} \\bV^T \\bW \\right\\|_F \\\n",
    "=$ {0}'.format(np.linalg.norm(S11 - S11_alt))))\n",
    "display(Latex(r'$\\left\\| \\bS_{{2,1}} - \\bW_\\perp^T \\bV \\bSigma^{{2}} \\bV^T \\bW \\right\\|_F \\\n",
    "=$ {0}'.format(np.linalg.norm(S21 - S21_alt))))"
   ]
  },
  {
   "cell_type": "markdown",
   "metadata": {},
   "source": [
    "Right away above we see several advantages of using $\\bS_{1,1}$ to solve the system - the condition number is better in the case of full rank, and the system is only $m\\times m$ in size.\n",
    "\n",
    "### Double checking SVD decompositions and psuedo-inverses\n",
    "\n",
    "Because both $\\bS_{1,1}$ and $\\bT_{2,2}$ can be rank difficient if $n < m$ or $n < K-m$ respectively, so we need the pseudo-inverse, $\\bS_{1,1}^\\dagger$, to solve this system. Let us consider the SVD decomposition of \n",
    "\n",
    "$$(\\bW^T \\bV \\bSigma_n) = \\bP \\bQ \\bR \\quad\\text{giving us}\\quad \\bS_{1,1} = \\bP \\bQ \\bQ^T \\bP^T$$\n",
    "\n",
    "As is usual, there is a stable inverse for $\\bS_{1,1}$ in the span of the columns of $\\bP$ up til at most $\\min(n, m)$. Let us write that $\\bP_{1:r}$ is the matrix made up of the first $r=\\min(m,n)$ columns of $\\bP$. Psuedo inverse would obv be of the form (assuming, e.g. that the rank of $\\bS_{1,1}$ is $n$, and also writing $\\bQ^{-2}$ for the appropriate diagonal matrix)\n",
    "\n",
    "$$\\bS^\\dagger_{1,1} = \\bP_{1:r} \\bQ^{-2} (\\bP_{1:r})^T$$\n",
    "\n",
    "Similar calc applies for $\\bT_{2,2}$, with the psuedo-inverse applying in the span of the SVD decomp of $(\\bW^T \\bV \\bSigma_n^{-1})$, $\\bP_\\perp$ up til the $\\min(K-m, n)$-th column."
   ]
  },
  {
   "cell_type": "code",
   "execution_count": 4,
   "metadata": {},
   "outputs": [
    {
     "data": {
      "text/latex": [
       "$\\left \\| \\bS_{1,1}^\\dagger - \\bP_{1:n} \\bQ^{-2} (\\bP_{1:n})^T \\right\\|_F =$  8.508773203680112e-15"
      ],
      "text/plain": [
       "<IPython.core.display.Latex object>"
      ]
     },
     "metadata": {},
     "output_type": "display_data"
    },
    {
     "data": {
      "text/latex": [
       "$\\left \\| \\bT_{2,2}^\\dagger - \\bP_{\\perp,1:n} \\bQ_\\perp^{-2} (\\bP_{\\perp,1:n})^T \\right\\|_F =$  6.9411054539084315e-12"
      ],
      "text/plain": [
       "<IPython.core.display.Latex object>"
      ]
     },
     "metadata": {},
     "output_type": "display_data"
    }
   ],
   "source": [
    "P, Q, RT = sp.linalg.svd(W.T @ V @ Sigma_n)\n",
    "P_p, Q_p, R_pT = sp.linalg.svd(W_p.T @ V @ Sigma_n_inv)\n",
    "\n",
    "rm = min(m,n)\n",
    "rk = min(K-m, n)\n",
    "\n",
    "T22_pinv = P_p[:,:rk] @ np.diag(1.0/(Q_p*Q_p)) @ P_p[:,:rk].T\n",
    "S11_pinv = P[:,:rm] @ np.diag(1/(Q*Q)) @ P[:,:rm].T\n",
    "\n",
    "display(Latex(r'$\\left \\| \\bS_{{1,1}}^\\dagger - \\bP_{{1:n}} \\bQ^{{-2}} (\\bP_{{1:n}})^T \\right\\|_F =$  {0}'.format(np.linalg.norm(S11_pinv - np.linalg.pinv(S11)))))\n",
    "display(Latex(r'$\\left \\| \\bT_{{2,2}}^\\dagger - \\bP_{{\\perp,1:n}} \\bQ_\\perp^{{-2}} (\\bP_{{\\perp,1:n}})^T \\right\\|_F =$  {0}'.format(np.linalg.norm(T22_pinv - np.linalg.pinv(T22)))))"
   ]
  },
  {
   "cell_type": "markdown",
   "metadata": {},
   "source": [
    "Given the SVD decompositions\n",
    "\n",
    "$$ (\\bW^T \\bV \\bSigma_n) = \\bP \\bQ \\bR \\quad\\text{and}\\quad(\\bW_\\perp^T \\bV \\bSigma_n) = \\bP_\\perp \\bQ_\\perp \\bR_\\perp $$\n",
    "\n",
    "we find that (again with $r=\\min(m,n)$)\n",
    "\n",
    "\\begin{align}\n",
    "\\bS_{2,1} \\bS_{1,1}^\\dagger \n",
    "&= \\bP_\\perp \\bQ_\\perp^{-1} \\bR_\\perp^T \\bR \\bQ \\bP^T \n",
    "\\bP_{1:r} \\bQ^{-2} (\\bP_{1:r})^T \\\\\n",
    "&= \\bP_\\perp \\bQ_\\perp^{-1} \\bR_\\perp^T \\bR_{1:r} \\bQ^{-1} (\\bP_{1:r})^T \\\\\n",
    "\\end{align}\n",
    "\n",
    "$$ \\bw_\\perp^* = \\bS_{2,1} \\bS_{1,1}^\\dagger \\bw = - \\bT_{2,2}^\\dagger \\bT_{2,1} \\bw $$\n",
    "\n",
    "And once again there is a very similar calculation for $\\bT_{2,2}^\\dagger$."
   ]
  },
  {
   "cell_type": "code",
   "execution_count": 5,
   "metadata": {},
   "outputs": [
    {
     "name": "stdout",
     "output_type": "stream",
     "text": [
      "(S21 * S11_inv) shape (94, 6) condition 1.7075450222771817\n"
     ]
    },
    {
     "data": {
      "text/latex": [
       "$\\left\\| \\bS_{2,1} \\bS_{1,1}^\\dagger - (\\bP_\\perp)_{1:n} \\bQ_\\perp \\bR_\\perp^T \\bR_W \\bQ_W^{-1} (\\bP_W)_{1:n}^T \\right\\|_F =$6.396599896368877e-15"
      ],
      "text/plain": [
       "<IPython.core.display.Latex object>"
      ]
     },
     "metadata": {},
     "output_type": "display_data"
    },
    {
     "name": "stdout",
     "output_type": "stream",
     "text": [
      "(T22_inv * T21) shape (94, 6) condition 1.7075450222783881\n"
     ]
    },
    {
     "data": {
      "text/latex": [
       "$\\left\\| \\bT_{2,2}^\\dagger \\bT_{2,1} - (\\bP_\\perp)_{1:n} \\bQ_\\perp^{-1} \\bR_\\perp^T \\bR_W \\bQ_W (\\bP_W)_{1:n}^T \\right\\|_F =$8.19162977487262e-12"
      ],
      "text/plain": [
       "<IPython.core.display.Latex object>"
      ]
     },
     "metadata": {},
     "output_type": "display_data"
    },
    {
     "data": {
      "text/latex": [
       "$\\left\\| \\bS_{2,1} \\bS_{1,1}^\\dagger + \\bT_{2,2}^\\dagger \\bT_{2,1} \\right\\|_F =$ 8.188420222310033e-12"
      ],
      "text/plain": [
       "<IPython.core.display.Latex object>"
      ]
     },
     "metadata": {},
     "output_type": "display_data"
    }
   ],
   "source": [
    "ra = min(K-m, n)\n",
    "rm = min(m, n)\n",
    "\n",
    "P, Q, RT = sp.linalg.svd(W.T @ V @ Sigma_n)\n",
    "P_p, Q_p, R_pT = sp.linalg.svd(W_p.T @ V @ Sigma_n)\n",
    "Ssolver_alt = P_p[:,:ra] @ np.diag(Q_p) @ R_pT[:ra] @ RT[:rm].T @ np.diag(1.0/Q) @ P[:,:rm].T\n",
    "Ssolver = S21 @ np.linalg.pinv(S11)\n",
    "\n",
    "print('(S21 * S11_inv) shape {0} condition {1}'.format(Ssolver.shape, np.linalg.cond(Ssolver)))\n",
    "display(Latex(r'$\\left\\| \\bS_{{2,1}} \\bS_{{1,1}}^\\dagger - (\\bP_\\perp)_{{1:n}} \\bQ_\\perp \\bR_\\perp^T \\bR_W \\bQ_W^{{-1}} (\\bP_W)_{{1:n}}^T \\right\\|_F =$\\\n",
    "{0}'.format(np.linalg.norm(Ssolver - Ssolver_alt))))\n",
    "\n",
    "P, Q, RT = sp.linalg.svd(W.T @ V @ Sigma_n_inv)\n",
    "P_p, Q_p, R_pT = sp.linalg.svd(W_p.T @ V @ Sigma_n_inv)\n",
    "Tsolver_alt = P_p[:,:ra] @ np.diag(1.0/Q_p) @ R_pT[:ra] @ RT[:rm].T @ np.diag(Q) @ P[:,:rm].T\n",
    "Tsolver = np.linalg.pinv(T22) @ T21\n",
    "\n",
    "print('(T22_inv * T21) shape {0} condition {1}'.format(Tsolver.shape, np.linalg.cond(Tsolver)))\n",
    "display(Latex(r'$\\left\\| \\bT_{{2,2}}^\\dagger \\bT_{{2,1}} - (\\bP_\\perp)_{{1:n}} \\bQ_\\perp^{{-1}} \\bR_\\perp^T \\bR_W \\bQ_W (\\bP_W)_{{1:n}}^T \\right\\|_F =$\\\n",
    "{0}'.format(np.linalg.norm(Tsolver - Tsolver_alt))))\n",
    "\n",
    "display(Latex(r'$\\left\\| \\bS_{{2,1}} \\bS_{{1,1}}^\\dagger + \\bT_{{2,2}}^\\dagger \\bT_{{2,1}} \\right\\|_F =$ \\\n",
    "{0}'.format(np.linalg.norm(Tsolver + Ssolver))))"
   ]
  },
  {
   "cell_type": "code",
   "execution_count": 6,
   "metadata": {},
   "outputs": [
    {
     "name": "stdout",
     "output_type": "stream",
     "text": [
      "That other thing Ive been semi hopeful for : 862.1173900020692\n"
     ]
    }
   ],
   "source": [
    "print('That other thing Ive been semi hopeful for : {0}'.format(np.linalg.norm(Ssolver - Q.T @ P[:,:n].T)))"
   ]
  },
  {
   "cell_type": "markdown",
   "metadata": {},
   "source": [
    "### So what are we actually getting to here? \n",
    "\n",
    "Well, the complexity of the SVD for really large $K$ is just stupendous. We want to consider maybe something like restrict $\\bbR^K$ to $\\bbR^{2m}$ spanned by $\\psi_1,\\ldots,\\psi_{2m}$ to do this reconstruction, and we know that we'll have it within some amount...\n",
    "\n",
    "In this case we simply have the \"approximate\" operators \n",
    "\n",
    "$$ \\bT_{2,2}^{(\\mathrm{app})} = (\\bPsi_{m:2m})^T \\bV \\bSigma^{-2} \\bV^T \\bPsi_{m:2m} $$\n",
    "\n",
    "and \n",
    "\n",
    "$$ \\bT_{2,1}^{(\\mathrm{app})} = \\bPsi_{m:2m}^T \\bV \\bSigma^{-2} \\bV^T \\bPsi_{1:m} = \\bPsi_{m:2m}^T \\bV \\bSigma^{-2} \\bV^T \\bW . $$ \n",
    "\n",
    "We see below we have much more manageable computations $\\bT_{2,2}^{(\\mathrm{app})}$ is now of shape $m \\times m$."
   ]
  },
  {
   "cell_type": "code",
   "execution_count": 7,
   "metadata": {},
   "outputs": [
    {
     "name": "stdout",
     "output_type": "stream",
     "text": [
      "S_11_approx of shape (6, 6), rank 6, condition 1.8115596222028805\n",
      "S_21_approx of shape (6, 6), rank 6, condition 36.3483297743399\n",
      "T_21_approx of shape (6, 6), rank 6, condition 816.7160304546929\n",
      "T_22_approx of shape (6, 6), rank 6, condition 320.4698990310355\n",
      "\n"
     ]
    },
    {
     "data": {
      "text/latex": [
       "$\\left\\| \\bS_{2,1} \\bS_{1,1}^\\dagger - \\bS_{2,1}^{(\\mathrm{app})} (\\bS_{1,1}^{(\\mathrm{app})})^\\dagger \\right\\|_2 =$ 0.9632103265683489"
      ],
      "text/plain": [
       "<IPython.core.display.Latex object>"
      ]
     },
     "metadata": {},
     "output_type": "display_data"
    },
    {
     "data": {
      "text/latex": [
       "$\\left\\| \\bT_{2,2}^\\dagger \\bT_{2,1} - (\\bT_{2,2}^{(\\mathrm{app})})^\\dagger \\bT_{2,1}^{(\\mathrm{app})} \\right\\|_2 =$ 1.98172435019158"
      ],
      "text/plain": [
       "<IPython.core.display.Latex object>"
      ]
     },
     "metadata": {},
     "output_type": "display_data"
    }
   ],
   "source": [
    "W2_p = Psi[:,m:2*m]\n",
    "\n",
    "S11_approx = W.T @ V @ Sigma_n @ Sigma_n @ V.T @ W\n",
    "S21_approx = W2_p.T @ V @ Sigma_n @ Sigma_n @ V.T @ W\n",
    "print('S_11_approx of shape {0}, rank {1}, condition {2}'.format(S11_approx.shape, np.linalg.matrix_rank(S11_approx), np.linalg.cond(S11_approx)))\n",
    "print('S_21_approx of shape {0}, rank {1}, condition {2}'.format(S21_approx.shape, np.linalg.matrix_rank(S21_approx), np.linalg.cond(S21_approx)))\n",
    "Ssolver_approx = S21_approx @ np.linalg.pinv(S11_approx)\n",
    "\n",
    "T22_approx = W2_p.T @ V @ Sigma_n_inv @ Sigma_n_inv @ V.T @ W2_p\n",
    "T21_approx = W2_p.T @ V @ Sigma_n_inv @ Sigma_n_inv @ V.T @ W\n",
    "print('T_21_approx of shape {0}, rank {1}, condition {2}'.format(T21_approx.shape, np.linalg.matrix_rank(T21_approx), np.linalg.cond(T21_approx)))\n",
    "print('T_22_approx of shape {0}, rank {1}, condition {2}'.format(T22_approx.shape, np.linalg.matrix_rank(T22_approx), np.linalg.cond(T22_approx)))\n",
    "Tsolver_approx = np.linalg.pinv(T22_approx) @ T21_approx\n",
    "\n",
    "print('')\n",
    "display(Latex(r'$\\left\\| \\bS_{{2,1}} \\bS_{{1,1}}^\\dagger - \\bS_{{2,1}}^{{(\\mathrm{{app}})}} (\\bS_{{1,1}}^{{(\\mathrm{{app}})}})^\\dagger \\right\\|_2 =$ \\\n",
    "{0}'.format(np.linalg.norm(W2_p @ Ssolver_approx - W_p @ Ssolver, ord=2))))\n",
    "display(Latex(r'$\\left\\| \\bT_{{2,2}}^\\dagger \\bT_{{2,1}} - (\\bT_{{2,2}}^{{(\\mathrm{{app}})}})^\\dagger \\bT_{{2,1}}^{{(\\mathrm{{app}})}} \\right\\|_2 =$ \\\n",
    "{0}'.format(np.linalg.norm(W2_p @ Tsolver_approx - W_p @ Tsolver, ord=2))))"
   ]
  },
  {
   "cell_type": "markdown",
   "metadata": {},
   "source": [
    "### Now we examine the approximation difference from $m+1$ to $K$\n",
    "\n",
    "...i.e. we take $\\bW_\\perp = \\bPsi_{m:M}$ for $M = m+1, \\ldots , K$"
   ]
  },
  {
   "cell_type": "code",
   "execution_count": 8,
   "metadata": {},
   "outputs": [
    {
     "data": {
      "image/png": "[encoded data removed]",
      "text/plain": [
       "<matplotlib.figure.Figure at 0x1062b1358>"
      ]
     },
     "metadata": {},
     "output_type": "display_data"
    }
   ],
   "source": [
    "Ssolver_acc = np.zeros(K-m)\n",
    "Tsolver_acc = np.zeros(K-m)\n",
    "\n",
    "for M in range(m+1,K):\n",
    "    \n",
    "    W2_p = Psi[:,m:M]\n",
    "    S11_approx = W.T @ V @ Sigma_n @ Sigma_n @ V.T @ W\n",
    "    S21_approx = W2_p.T @ V @ Sigma_n @ Sigma_n @ V.T @ W\n",
    "    T22_approx = W2_p.T @ V @ Sigma_n_inv @ Sigma_n_inv @ V.T @ W2_p\n",
    "    T21_approx = W2_p.T @ V @ Sigma_n_inv @ Sigma_n_inv @ V.T @ W\n",
    "\n",
    "    Ssolver_approx = S21_approx @ np.linalg.pinv(S11_approx)\n",
    "    Tsolver_approx = np.linalg.pinv(T22_approx) @ T21_approx\n",
    "\n",
    "    Ssolver_acc[M-(m+1)] = np.linalg.norm(W2_p @ Ssolver_approx - W_p @ Ssolver, ord=2)\n",
    "    Tsolver_acc[M-(m+1)] = np.linalg.norm(W2_p @ Tsolver_approx - W_p @ Tsolver, ord=2)\n",
    "\n",
    "plt.figure(figsize=(6, 4))\n",
    "plt.plot(range(m+1, K+1), Ssolver_acc, label=r'$S_{2,1} S_{1,1}^{-1}$')\n",
    "plt.plot(range(m+1, K+1), Tsolver_acc, label=r'$T_{2,2}^{-1} T_{2,1}$')\n",
    "plt.legend(loc=1)\n",
    "plt.xlabel(r'Dim of $W + W_\\perp$')\n",
    "plt.ylabel(r'$||$ Solver - Approx Solver $||_2$')\n",
    "plt.title(r'Meas space $W$ of dim $m=${0}, PCA space of dim $n=${1}'.format(m,n))\n",
    "plt.savefig('blah.jpg')\n",
    "plt.show()\n"
   ]
  },
  {
   "cell_type": "markdown",
   "metadata": {},
   "source": [
    "## An investigation in to the pseudo-inverse approach to finding the best estimate\n",
    "\n",
    "Versus the best linear estimate"
   ]
  },
  {
   "cell_type": "code",
   "execution_count": 9,
   "metadata": {},
   "outputs": [],
   "source": [
    "def test_meas_pca_pair(K=10, n=7, m=3):\n",
    "    # First make two random orthonormal vector bases\n",
    "    Phi = sp.stats.ortho_group.rvs(dim=K) # The \"PCA\" space\n",
    "    Psi = sp.stats.ortho_group.rvs(dim=K) # The \"measurement\" space\n",
    "\n",
    "    sigma = np.sort(np.random.random(n))[::-1]\n",
    "    Sigma = np.pad(np.diag(sigma), ((0,K-n),(0,K-n)), 'constant')\n",
    "    Sigma_inv = np.pad(np.diag(1.0/sigma), ((0,K-n),(0,K-n)), 'constant')\n",
    "    Sigma_n = np.diag(sigma[:n])\n",
    "    Sigma_n_inv = np.diag(1.0/sigma[:n])\n",
    "\n",
    "    V = Phi[:,:n]\n",
    "    W = Psi[:,:m]\n",
    "    W_p = Psi[:,m:]\n",
    "\n",
    "    T = Psi.T @ Phi @ Sigma_inv @ Sigma_inv @ Phi.T @ Psi\n",
    "    S = Psi.T @ Phi @ Sigma @ Sigma @ Phi.T @ Psi\n",
    "\n",
    "    u = V @ Sigma_n @ np.random.random(n)\n",
    "\n",
    "    w = W.T @ u\n",
    "    w_p = W_p.T @ u\n",
    "\n",
    "    # Pseudo inverse\n",
    "    display(Latex(r'Rank$(\\bW) =$ {0},  Rank$(\\bV) =$ {1},  Rank$(\\bW^T \\bV) =$ {2}'.format(np.linalg.matrix_rank(W), np.linalg.matrix_rank(V), np.linalg.matrix_rank(W.T @ V))))\n",
    "    if K <= 10:\n",
    "        display(Latex(r'$u =$'))\n",
    "        print(u)\n",
    "    solver_1 = np.linalg.pinv(W.T @ V @ Sigma_n)\n",
    "    u_recon_1 = V @ Sigma_n @ solver_1 @ w\n",
    "    if K <= 10:\n",
    "        display(Latex(r'$\\bV \\bSigma \\, (\\bW^T \\bV \\bSigma)^\\dagger w =$'))\n",
    "        print(u_recon_1)\n",
    "    display(Latex(r'$\\| u - \\bV \\bSigma \\, (\\bW^T \\bV \\bSigma)^\\dagger w \\| =$ {0}'.format(np.linalg.norm(u - u_recon_1))))\n",
    "\n",
    "    # Albert way\n",
    "    S11 = S[:m, :m]\n",
    "    S21 = S[m:, :m]\n",
    "    solver_2 = np.linalg.pinv(S11)\n",
    "    u_recon_2 = W @ w + W_p @ S21 @ solver_2 @ w\n",
    "    \n",
    "    if K <= 10:\n",
    "        display(Latex(r'$u^* = w + w^* = \\bW w + \\bW_\\perp \\bS_{{2,1}} \\bS_{{11}}^\\dagger w=$'))\n",
    "        print(u_recon_2)\n",
    "    display(Latex(r'$\\| u - (\\bW w + \\bW_\\perp \\bS_{{2,1}} \\bS_{{11}}^\\dagger w) \\| =$ {0}'.format(np.linalg.norm(u - u_recon_2))))\n",
    "    display(Latex(r'$\\| \\bV \\bSigma \\, (\\bW^T \\bV \\bSigma)^\\dagger w - (\\bW w + \\bW_\\perp \\bS_{{2,1}} \\bS_{{11}}^\\dagger w) \\| =$ {0}'.format(np.linalg.norm(u_recon_1 - u_recon_2))))\n",
    "    display(Latex(r'Condition numbers: $\\kappa(\\bW^T \\bV \\bSigma) =$ {0}, $\\kappa(\\bS_{{11}}) =$ {1}'.format(np.linalg.cond(W.T @ V @ Sigma_n), np.linalg.cond(S11)) ))\n",
    "\n",
    "    display(Latex(r'$\\| ((\\bW^T \\bV \\bSigma)^\\dagger)^T (\\bW^T \\bV \\bSigma)^\\dagger - (\\bS_{{11}})^\\dagger \\|_F=$ {0}'.format(np.linalg.norm(solver_1.T @ solver_1 - solver_2))))"
   ]
  },
  {
   "cell_type": "markdown",
   "metadata": {},
   "source": [
    "### Test randomly generated orthonormal bases\n",
    "\n",
    "Here we make two random orthonormal bases $W_m = \\mathrm{span}(\\psi_1, \\ldots, \\psi_m)$ and a PCA basis $V_n = \\mathrm{span}(\\varphi_1, \\ldots, \\varphi_n)$ with $\\sigma_1 \\ge \\sigma_2 \\ge \\cdots \\ge \\sigma_1$. The ambient space is $\\bbR^K$ for some $K > m,n$ with usual inner-product.\n",
    "\n",
    "We generate a random element $u \\in V_n$. The matrices $\\bW$ and $\\bV$ have the vectors $\\psi_i$ and $\\varphi_j$ as columns respectively. Thus the projection of $u$ to $W_m$ can be computed as $\\bW \\bW^T u$.\n",
    "\n",
    "There are two possible reconstructions, the optimal linear one, and the pseudo-inverse one. I'll do some calcs shortly to show. First though we have a look at how the methods fare for a variety of $K, m$ and $n$."
   ]
  },
  {
   "cell_type": "code",
   "execution_count": 10,
   "metadata": {},
   "outputs": [
    {
     "data": {
      "text/latex": [
       "Rank$(\\bW) =$ 2,  Rank$(\\bV) =$ 8,  Rank$(\\bW^T \\bV) =$ 2"
      ],
      "text/plain": [
       "<IPython.core.display.Latex object>"
      ]
     },
     "metadata": {},
     "output_type": "display_data"
    },
    {
     "data": {
      "text/latex": [
       "$u =$"
      ],
      "text/plain": [
       "<IPython.core.display.Latex object>"
      ]
     },
     "metadata": {},
     "output_type": "display_data"
    },
    {
     "name": "stdout",
     "output_type": "stream",
     "text": [
      "[ 0.12997987 -0.07535297 -0.0802677  -0.23575802 -0.18103306 -0.28285582\n",
      "  0.20864301  0.25648601  0.20802358  0.23861993]\n"
     ]
    },
    {
     "data": {
      "text/latex": [
       "$\\bV \\bSigma \\, (\\bW^T \\bV \\bSigma)^\\dagger w =$"
      ],
      "text/plain": [
       "<IPython.core.display.Latex object>"
      ]
     },
     "metadata": {},
     "output_type": "display_data"
    },
    {
     "name": "stdout",
     "output_type": "stream",
     "text": [
      "[ 0.00075438 -0.13712705 -0.00905698  0.00269823 -0.12196452 -0.05229689\n",
      "  0.0999057   0.13416697  0.22473368  0.13041124]\n"
     ]
    },
    {
     "data": {
      "text/latex": [
       "$\\| u - \\bV \\bSigma \\, (\\bW^T \\bV \\bSigma)^\\dagger w \\| =$ 0.42174425937338794"
      ],
      "text/plain": [
       "<IPython.core.display.Latex object>"
      ]
     },
     "metadata": {},
     "output_type": "display_data"
    },
    {
     "data": {
      "text/latex": [
       "$u^* = w + w^* = \\bW w + \\bW_\\perp \\bS_{{2,1}} \\bS_{{11}}^\\dagger w=$"
      ],
      "text/plain": [
       "<IPython.core.display.Latex object>"
      ]
     },
     "metadata": {},
     "output_type": "display_data"
    },
    {
     "name": "stdout",
     "output_type": "stream",
     "text": [
      "[ 0.00075438 -0.13712705 -0.00905698  0.00269823 -0.12196452 -0.05229689\n",
      "  0.0999057   0.13416697  0.22473368  0.13041124]\n"
     ]
    },
    {
     "data": {
      "text/latex": [
       "$\\| u - (\\bW w + \\bW_\\perp \\bS_{2,1} \\bS_{11}^\\dagger w) \\| =$ 0.421744259373388"
      ],
      "text/plain": [
       "<IPython.core.display.Latex object>"
      ]
     },
     "metadata": {},
     "output_type": "display_data"
    },
    {
     "data": {
      "text/latex": [
       "$\\| \\bV \\bSigma \\, (\\bW^T \\bV \\bSigma)^\\dagger w - (\\bW w + \\bW_\\perp \\bS_{2,1} \\bS_{11}^\\dagger w) \\| =$ 2.735422958245803e-16"
      ],
      "text/plain": [
       "<IPython.core.display.Latex object>"
      ]
     },
     "metadata": {},
     "output_type": "display_data"
    },
    {
     "data": {
      "text/latex": [
       "Condition numbers: $\\kappa(\\bW^T \\bV \\bSigma) =$ 1.4257785713354256, $\\kappa(\\bS_{11}) =$ 2.032844534479286"
      ],
      "text/plain": [
       "<IPython.core.display.Latex object>"
      ]
     },
     "metadata": {},
     "output_type": "display_data"
    },
    {
     "data": {
      "text/latex": [
       "$\\| ((\\bW^T \\bV \\bSigma)^\\dagger)^T (\\bW^T \\bV \\bSigma)^\\dagger - (\\bS_{11})^\\dagger \\|_F=$ 1.0741085019148343e-14"
      ],
      "text/plain": [
       "<IPython.core.display.Latex object>"
      ]
     },
     "metadata": {},
     "output_type": "display_data"
    }
   ],
   "source": [
    "test_meas_pca_pair(K=10, m=2, n=8)"
   ]
  },
  {
   "cell_type": "code",
   "execution_count": 11,
   "metadata": {},
   "outputs": [
    {
     "data": {
      "text/latex": [
       "Rank$(\\bW) =$ 7,  Rank$(\\bV) =$ 2,  Rank$(\\bW^T \\bV) =$ 2"
      ],
      "text/plain": [
       "<IPython.core.display.Latex object>"
      ]
     },
     "metadata": {},
     "output_type": "display_data"
    },
    {
     "data": {
      "text/latex": [
       "$u =$"
      ],
      "text/plain": [
       "<IPython.core.display.Latex object>"
      ]
     },
     "metadata": {},
     "output_type": "display_data"
    },
    {
     "name": "stdout",
     "output_type": "stream",
     "text": [
      "[ 0.16246013  0.10564114 -0.11918425 -0.37746177 -0.22258504 -0.14825872\n",
      "  0.12741227 -0.31680109  0.07341445 -0.06547718]\n"
     ]
    },
    {
     "data": {
      "text/latex": [
       "$\\bV \\bSigma \\, (\\bW^T \\bV \\bSigma)^\\dagger w =$"
      ],
      "text/plain": [
       "<IPython.core.display.Latex object>"
      ]
     },
     "metadata": {},
     "output_type": "display_data"
    },
    {
     "name": "stdout",
     "output_type": "stream",
     "text": [
      "[ 0.16246013  0.10564114 -0.11918425 -0.37746177 -0.22258504 -0.14825872\n",
      "  0.12741227 -0.31680109  0.07341445 -0.06547718]\n"
     ]
    },
    {
     "data": {
      "text/latex": [
       "$\\| u - \\bV \\bSigma \\, (\\bW^T \\bV \\bSigma)^\\dagger w \\| =$ 1.3092278833360675e-16"
      ],
      "text/plain": [
       "<IPython.core.display.Latex object>"
      ]
     },
     "metadata": {},
     "output_type": "display_data"
    },
    {
     "data": {
      "text/latex": [
       "$u^* = w + w^* = \\bW w + \\bW_\\perp \\bS_{{2,1}} \\bS_{{11}}^\\dagger w=$"
      ],
      "text/plain": [
       "<IPython.core.display.Latex object>"
      ]
     },
     "metadata": {},
     "output_type": "display_data"
    },
    {
     "name": "stdout",
     "output_type": "stream",
     "text": [
      "[ 0.16246013  0.10564114 -0.11918425 -0.37746177 -0.22258504 -0.14825872\n",
      "  0.12741227 -0.31680109  0.07341445 -0.06547718]\n"
     ]
    },
    {
     "data": {
      "text/latex": [
       "$\\| u - (\\bW w + \\bW_\\perp \\bS_{2,1} \\bS_{11}^\\dagger w) \\| =$ 2.9471925707673793e-16"
      ],
      "text/plain": [
       "<IPython.core.display.Latex object>"
      ]
     },
     "metadata": {},
     "output_type": "display_data"
    },
    {
     "data": {
      "text/latex": [
       "$\\| \\bV \\bSigma \\, (\\bW^T \\bV \\bSigma)^\\dagger w - (\\bW w + \\bW_\\perp \\bS_{2,1} \\bS_{11}^\\dagger w) \\| =$ 2.411702392926924e-16"
      ],
      "text/plain": [
       "<IPython.core.display.Latex object>"
      ]
     },
     "metadata": {},
     "output_type": "display_data"
    },
    {
     "data": {
      "text/latex": [
       "Condition numbers: $\\kappa(\\bW^T \\bV \\bSigma) =$ 1.420689495137029, $\\kappa(\\bS_{11}) =$ 1.1427025849754327e+18"
      ],
      "text/plain": [
       "<IPython.core.display.Latex object>"
      ]
     },
     "metadata": {},
     "output_type": "display_data"
    },
    {
     "data": {
      "text/latex": [
       "$\\| ((\\bW^T \\bV \\bSigma)^\\dagger)^T (\\bW^T \\bV \\bSigma)^\\dagger - (\\bS_{11})^\\dagger \\|_F=$ 2.415687617767363e-15"
      ],
      "text/plain": [
       "<IPython.core.display.Latex object>"
      ]
     },
     "metadata": {},
     "output_type": "display_data"
    }
   ],
   "source": [
    "test_meas_pca_pair(K=10, m=7, n=2)"
   ]
  },
  {
   "cell_type": "code",
   "execution_count": 12,
   "metadata": {},
   "outputs": [
    {
     "data": {
      "text/latex": [
       "Rank$(\\bW) =$ 80,  Rank$(\\bV) =$ 78,  Rank$(\\bW^T \\bV) =$ 78"
      ],
      "text/plain": [
       "<IPython.core.display.Latex object>"
      ]
     },
     "metadata": {},
     "output_type": "display_data"
    },
    {
     "data": {
      "text/latex": [
       "$\\| u - \\bV \\bSigma \\, (\\bW^T \\bV \\bSigma)^\\dagger w \\| =$ 8.800318361130971e-15"
      ],
      "text/plain": [
       "<IPython.core.display.Latex object>"
      ]
     },
     "metadata": {},
     "output_type": "display_data"
    },
    {
     "data": {
      "text/latex": [
       "$\\| u - (\\bW w + \\bW_\\perp \\bS_{2,1} \\bS_{11}^\\dagger w) \\| =$ 3.750843302689808e-13"
      ],
      "text/plain": [
       "<IPython.core.display.Latex object>"
      ]
     },
     "metadata": {},
     "output_type": "display_data"
    },
    {
     "data": {
      "text/latex": [
       "$\\| \\bV \\bSigma \\, (\\bW^T \\bV \\bSigma)^\\dagger w - (\\bW w + \\bW_\\perp \\bS_{2,1} \\bS_{11}^\\dagger w) \\| =$ 3.7400185677417243e-13"
      ],
      "text/plain": [
       "<IPython.core.display.Latex object>"
      ]
     },
     "metadata": {},
     "output_type": "display_data"
    },
    {
     "data": {
      "text/latex": [
       "Condition numbers: $\\kappa(\\bW^T \\bV \\bSigma) =$ 191.6830776247097, $\\kappa(\\bS_{11}) =$ 3.9110455568641016e+16"
      ],
      "text/plain": [
       "<IPython.core.display.Latex object>"
      ]
     },
     "metadata": {},
     "output_type": "display_data"
    },
    {
     "data": {
      "text/latex": [
       "$\\| ((\\bW^T \\bV \\bSigma)^\\dagger)^T (\\bW^T \\bV \\bSigma)^\\dagger - (\\bS_{11})^\\dagger \\|_F=$ 1.832849482382803e-07"
      ],
      "text/plain": [
       "<IPython.core.display.Latex object>"
      ]
     },
     "metadata": {},
     "output_type": "display_data"
    }
   ],
   "source": [
    "test_meas_pca_pair(K=100, m=80, n=78)"
   ]
  },
  {
   "cell_type": "code",
   "execution_count": 13,
   "metadata": {},
   "outputs": [
    {
     "data": {
      "text/latex": [
       "Rank$(\\bW) =$ 2,  Rank$(\\bV) =$ 100,  Rank$(\\bW^T \\bV) =$ 2"
      ],
      "text/plain": [
       "<IPython.core.display.Latex object>"
      ]
     },
     "metadata": {},
     "output_type": "display_data"
    },
    {
     "data": {
      "text/latex": [
       "$\\| u - \\bV \\bSigma \\, (\\bW^T \\bV \\bSigma)^\\dagger w \\| =$ 3.293194123775313"
      ],
      "text/plain": [
       "<IPython.core.display.Latex object>"
      ]
     },
     "metadata": {},
     "output_type": "display_data"
    },
    {
     "data": {
      "text/latex": [
       "$\\| u - (\\bW w + \\bW_\\perp \\bS_{2,1} \\bS_{11}^\\dagger w) \\| =$ 3.293194123775313"
      ],
      "text/plain": [
       "<IPython.core.display.Latex object>"
      ]
     },
     "metadata": {},
     "output_type": "display_data"
    },
    {
     "data": {
      "text/latex": [
       "$\\| \\bV \\bSigma \\, (\\bW^T \\bV \\bSigma)^\\dagger w - (\\bW w + \\bW_\\perp \\bS_{2,1} \\bS_{11}^\\dagger w) \\| =$ 1.83184437622744e-15"
      ],
      "text/plain": [
       "<IPython.core.display.Latex object>"
      ]
     },
     "metadata": {},
     "output_type": "display_data"
    },
    {
     "data": {
      "text/latex": [
       "Condition numbers: $\\kappa(\\bW^T \\bV \\bSigma) =$ 1.1424116741343806, $\\kappa(\\bS_{11}) =$ 1.3051044331985178"
      ],
      "text/plain": [
       "<IPython.core.display.Latex object>"
      ]
     },
     "metadata": {},
     "output_type": "display_data"
    },
    {
     "data": {
      "text/latex": [
       "$\\| ((\\bW^T \\bV \\bSigma)^\\dagger)^T (\\bW^T \\bV \\bSigma)^\\dagger - (\\bS_{11})^\\dagger \\|_F=$ 4.811891536953125e-15"
      ],
      "text/plain": [
       "<IPython.core.display.Latex object>"
      ]
     },
     "metadata": {},
     "output_type": "display_data"
    }
   ],
   "source": [
    "test_meas_pca_pair(K=100, m=2, n=100)"
   ]
  },
  {
   "cell_type": "markdown",
   "metadata": {},
   "source": [
    "## But, we really need to experiment with when $V \\cap W_\\perp \\neq 0$\n",
    "So we need to create a $\\bV$ with one column from $W_\\perp$ say... in this case the first ```deficient``` number of $\\varphi_i$ are equal to $\\psi_{i+m}$."
   ]
  },
  {
   "cell_type": "code",
   "execution_count": 14,
   "metadata": {},
   "outputs": [],
   "source": [
    "def test_meas_pca_pair_deficient(K=10, n=7, m=3, deficient=1):\n",
    "    # First make two random orthonormal vector bases\n",
    "    Psi = sp.stats.ortho_group.rvs(dim=K) # The \"measurement\" space\n",
    "    \n",
    "    Phi = np.eye(K)\n",
    "    Phi[:-deficient,:-deficient] = sp.stats.ortho_group.rvs(dim=K-deficient) # The \"PCA\" space\n",
    "    Phi = Psi @ Phi \n",
    "    Phi = Phi[:,::-1] # This basis will have the first #(deficient) columns from W_perp\n",
    "    \n",
    "    sigma = np.sort(np.random.random(n))[::-1]\n",
    "    Sigma = np.pad(np.diag(sigma), ((0,K-n),(0,K-n)), 'constant')\n",
    "    Sigma_inv = np.pad(np.diag(1.0/sigma), ((0,K-n),(0,K-n)), 'constant')\n",
    "    Sigma_n = np.diag(sigma[:n])\n",
    "    Sigma_n_inv = np.diag(1.0/sigma[:n])\n",
    "\n",
    "    V = Phi[:,:n]\n",
    "    W = Psi[:,:m]\n",
    "\n",
    "    W_p = Psi[:,m:]\n",
    "\n",
    "    T = Psi.T @ Phi @ Sigma_inv @ Sigma_inv @ Phi.T @ Psi\n",
    "    S = Psi.T @ Phi @ Sigma @ Sigma @ Phi.T @ Psi\n",
    "\n",
    "    u = V @ Sigma_n @ np.random.random(n)\n",
    "\n",
    "    w = W.T @ u\n",
    "    w_p = W_p.T @ u\n",
    "\n",
    "    # Pseudo inverse\n",
    "    display(Latex(r'Rank$(\\bW) =$ {0},  Rank$(\\bV) =$ {1},  Rank$(\\bW^T \\bV) =$ {2}'.format(np.linalg.matrix_rank(W), np.linalg.matrix_rank(V), np.linalg.matrix_rank(W.T @ V))))\n",
    "    if K <= 10:\n",
    "        display(Latex(r'$u =$'))\n",
    "        print(u)\n",
    "    solver_1 = np.linalg.pinv(W.T @ V @ Sigma_n)\n",
    "    u_recon_1 = V @ Sigma_n @ solver_1 @ w\n",
    "    if K <= 10:\n",
    "        display(Latex(r'$\\bV \\bSigma \\, (\\bW^T \\bV \\bSigma)^\\dagger w =$'))\n",
    "        print(u_recon_1)\n",
    "    display(Latex(r'$\\| u - \\bV \\bSigma \\, (\\bW^T \\bV \\bSigma)^\\dagger w \\| =$ {0}'.format(np.linalg.norm(u - u_recon_1))))\n",
    "    \n",
    "    # Albert way\n",
    "    S11 = S[:m, :m]\n",
    "    S21 = S[m:, :m]\n",
    "    solver_2 = np.linalg.pinv(S11)    \n",
    "    u_recon_2 = W @ w + W_p @ S21 @ solver_2 @ w\n",
    "    \n",
    "    if K <= 10:\n",
    "        display(Latex(r'$u^* = w + w^* = \\bW w + \\bW_\\perp \\bS_{{2,1}} \\bS_{{11}}^\\dagger w=$'))\n",
    "        print(u_recon_2)\n",
    "    display(Latex(r'$\\| u - (\\bW w + \\bW_\\perp \\bS_{{2,1}} \\bS_{{11}}^\\dagger w) \\| =$ {0}'.format(np.linalg.norm(u - u_recon_2))))\n",
    "    display(Latex(r'$\\| \\bV \\bSigma \\, (\\bW^T \\bV \\bSigma)^\\dagger w - (\\bW w + \\bW_\\perp \\bS_{{2,1}} \\bS_{{11}}^\\dagger w) \\| =$ {0}'.format(np.linalg.norm(u_recon_1 - u_recon_2))))\n",
    "    display(Latex(r'Condition numbers: $\\kappa(\\bW^T \\bV \\bSigma) =$ {0}, $\\kappa(\\bS_{{11}}) =$ {1}'.format(np.linalg.cond(W.T @ V @ Sigma_n), np.linalg.cond(S11)) ))\n",
    "\n",
    "    display(Latex(r'$\\| ((\\bW^T \\bV \\bSigma)^\\dagger)^T (\\bW^T \\bV \\bSigma)^\\dagger - (\\bS_{{11}})\\dagger \\|_F=$ {0}'.format(np.linalg.norm(solver_1.T @ solver_1 - solver_2))))"
   ]
  },
  {
   "cell_type": "code",
   "execution_count": 15,
   "metadata": {
    "scrolled": true
   },
   "outputs": [
    {
     "data": {
      "text/latex": [
       "Rank$(\\bW) =$ 3,  Rank$(\\bV) =$ 2,  Rank$(\\bW^T \\bV) =$ 1"
      ],
      "text/plain": [
       "<IPython.core.display.Latex object>"
      ]
     },
     "metadata": {},
     "output_type": "display_data"
    },
    {
     "data": {
      "text/latex": [
       "$u =$"
      ],
      "text/plain": [
       "<IPython.core.display.Latex object>"
      ]
     },
     "metadata": {},
     "output_type": "display_data"
    },
    {
     "name": "stdout",
     "output_type": "stream",
     "text": [
      "[ 0.02482699 -0.04725861 -0.00815984  0.03402087 -0.01255223]\n"
     ]
    },
    {
     "data": {
      "text/latex": [
       "$\\bV \\bSigma \\, (\\bW^T \\bV \\bSigma)^\\dagger w =$"
      ],
      "text/plain": [
       "<IPython.core.display.Latex object>"
      ]
     },
     "metadata": {},
     "output_type": "display_data"
    },
    {
     "name": "stdout",
     "output_type": "stream",
     "text": [
      "[ 0.00519169 -0.00128585 -0.00337009 -0.00543918 -0.00487762]\n"
     ]
    },
    {
     "data": {
      "text/latex": [
       "$\\| u - \\bV \\bSigma \\, (\\bW^T \\bV \\bSigma)^\\dagger w \\| =$ 0.06432710574588092"
      ],
      "text/plain": [
       "<IPython.core.display.Latex object>"
      ]
     },
     "metadata": {},
     "output_type": "display_data"
    },
    {
     "data": {
      "text/latex": [
       "$u^* = w + w^* = \\bW w + \\bW_\\perp \\bS_{{2,1}} \\bS_{{11}}^\\dagger w=$"
      ],
      "text/plain": [
       "<IPython.core.display.Latex object>"
      ]
     },
     "metadata": {},
     "output_type": "display_data"
    },
    {
     "name": "stdout",
     "output_type": "stream",
     "text": [
      "[ 0.00519169 -0.00128585 -0.00337009 -0.00543918 -0.00487762]\n"
     ]
    },
    {
     "data": {
      "text/latex": [
       "$\\| u - (\\bW w + \\bW_\\perp \\bS_{2,1} \\bS_{11}^\\dagger w) \\| =$ 0.06432710574588091"
      ],
      "text/plain": [
       "<IPython.core.display.Latex object>"
      ]
     },
     "metadata": {},
     "output_type": "display_data"
    },
    {
     "data": {
      "text/latex": [
       "$\\| \\bV \\bSigma \\, (\\bW^T \\bV \\bSigma)^\\dagger w - (\\bW w + \\bW_\\perp \\bS_{2,1} \\bS_{11}^\\dagger w) \\| =$ 1.8451834157399294e-17"
      ],
      "text/plain": [
       "<IPython.core.display.Latex object>"
      ]
     },
     "metadata": {},
     "output_type": "display_data"
    },
    {
     "data": {
      "text/latex": [
       "Condition numbers: $\\kappa(\\bW^T \\bV \\bSigma) =$ 1247065136710182.5, $\\kappa(\\bS_{11}) =$ 1.7607839171110867e+19"
      ],
      "text/plain": [
       "<IPython.core.display.Latex object>"
      ]
     },
     "metadata": {},
     "output_type": "display_data"
    },
    {
     "data": {
      "text/latex": [
       "$\\| ((\\bW^T \\bV \\bSigma)^\\dagger)^T (\\bW^T \\bV \\bSigma)^\\dagger - (\\bS_{11})\\dagger \\|_F=$ 5.439446388886713e-13"
      ],
      "text/plain": [
       "<IPython.core.display.Latex object>"
      ]
     },
     "metadata": {},
     "output_type": "display_data"
    }
   ],
   "source": [
    "test_meas_pca_pair_deficient(K=5, m=3, n=2, deficient=1)"
   ]
  },
  {
   "cell_type": "markdown",
   "metadata": {},
   "source": [
    "# We want to calculate the variance for a particular $w$\n",
    "\n",
    "That is, what is $\\bbE(\\| u - u^* \\|)$ and $\\bbE(\\| u - u^* \\| \\,\\big|\\, P_W u = P_W u^* = w)$?\n"
   ]
  },
  {
   "cell_type": "code",
   "execution_count": 16,
   "metadata": {},
   "outputs": [],
   "source": [
    "def tr_svd(M, power=1.0):\n",
    "    return (np.linalg.svd(M, compute_uv=False)**power).sum()\n",
    "\n",
    "def test_cond_variances(K=10, n=7, m=3):\n",
    "    # First make two random orthonormal vector bases\n",
    "    Phi = sp.stats.ortho_group.rvs(dim=K) # The \"PCA\" space\n",
    "    Psi = sp.stats.ortho_group.rvs(dim=K) # The \"measurement\" space\n",
    "\n",
    "    sigma = np.sort(np.random.random(n))[::-1]\n",
    "    Sigma = np.pad(np.diag(sigma), ((0,K-n),(0,K-n)), 'constant')\n",
    "    Sigma_inv = np.pad(np.diag(1.0/sigma), ((0,K-n),(0,K-n)), 'constant')\n",
    "    Sigma_n = np.diag(sigma[:n])\n",
    "    Sigma_n_inv = np.diag(1.0/sigma[:n])\n",
    "\n",
    "    V = Phi[:,:n]\n",
    "    W = Psi[:,:m]\n",
    "    W_p = Psi[:,m:]\n",
    "\n",
    "    T = Psi.T @ Phi @ Sigma_inv @ Sigma_inv @ Phi.T @ Psi\n",
    "    S = Psi.T @ Phi @ Sigma @ Sigma @ Phi.T @ Psi\n",
    "\n",
    "    u = V @ Sigma_n @ np.random.random(n)\n",
    "\n",
    "    w = W.T @ u\n",
    "    w_p = W_p.T @ u\n",
    "    # Pseudo inverse\n",
    "    \n",
    "    GW = W.T @ V @ Sigma_n\n",
    "    solver_1 = np.linalg.pinv(GW)\n",
    "    u_recon_1 = V @ Sigma_n @ solver_1 @ w\n",
    "        \n",
    "    # Albert way\n",
    "    S11 = S[:m, :m]\n",
    "    S21 = S[m:, :m]\n",
    "    S12 = S[:m, m:]\n",
    "    S22 = S[m:, m:]\n",
    "    T22 = T[m:, m:]\n",
    "    solver_2 = np.linalg.pinv(S11)\n",
    "    u_recon_2 = W @ w + W_p @ S21 @ solver_2 @ w\n",
    "\n",
    "    display(Latex(r'Rank$(\\bW) =$ {0},  Rank$(\\bV) =$ {1},  Rank$(\\bG_W) =$ {2}'.format(np.linalg.matrix_rank(W), np.linalg.matrix_rank(V), np.linalg.matrix_rank(GW))))\n",
    "    \n",
    "    if (m < K):\n",
    "        display(Latex(r'$\\mathrm{{trsq}}(\\bG_\\perp)=$ {0}'\\\n",
    "                      .format(tr_svd(W_p.T @ V @ Sigma_n, 2))))    \n",
    "    display(Latex(r'$\\sum_i \\sigma_i^2 - \\mathrm{{trsq}}(\\bG_W)=$ {0}'\\\n",
    "                  .format((sigma**2).sum() - tr_svd(W.T @ V @ Sigma_n, 2))))\n",
    "\n",
    "    if (m < K):\n",
    "        display(Latex(r'$\\mathrm{{trsq}}(\\bQ_\\perp)=$ {0}'\\\n",
    "                      .format(tr_svd(W_p.T @ V @ Sigma_n_inv, 2))))\n",
    "    display(Latex(r'$\\sum_i \\sigma_i^{{-2}} - \\mathrm{{trsq}}(\\bQ_W)=$ {0}'\\\n",
    "              .format((sigma**(-2)).sum() - tr_svd(W.T @ V @ Sigma_n_inv,2))))\n",
    "    display(Latex(r'$\\mathrm{{tr}}(\\bT_{{2,2}})$ = {0}'.format(np.trace(T22))))\n",
    "    \n",
    "    display(Latex(r'$\\sum_i \\sigma_i^{{-2}} - \\mathrm{{trsq}}(\\bQ_W^\\dagger)=$ {0}'\\\n",
    "              .format((sigma**(-2)).sum() - tr_svd(np.linalg.pinv(W.T @ V @ Sigma_n_inv, 2)))))\n",
    "    display(Latex(r'$\\sum_i \\sigma_i^{{-2}} - \\mathrm{{trinvsq}}(\\bQ_W)=$ {0}'\\\n",
    "              .format((sigma**(-2)).sum() - tr_svd(W.T @ V @ Sigma_n_inv, -2))))\n",
    "    display(Latex(r'$\\mathrm{{tr}}(\\bT_{{2,2}}^{{-1}})$ = {0}'.format(np.trace(np.linalg.pinv(T22)))))\n",
    "    \n",
    "    Psi_til, S_til, Phi_til = np.linalg.svd(GW)\n",
    "    Phi_til = Phi_til.T\n",
    "    \n",
    "    # Is there *any* variance in W_\\perp??\n",
    "    if len(S_til) < len(Phi_til):\n",
    "        perp_var = np.trace(Phi_til[:,len(S_til):].T @ Sigma_n**(2) @ Phi_til[:,len(S_til):])\n",
    "        w_perp_var = np.trace(Phi_til[:,len(S_til):].T @ Sigma_n**(2) @ Phi_til[:,len(S_til):])\n",
    "    else:\n",
    "        perp_var = 0\n",
    "\n",
    "    display(Latex(r'$\\mathrm{{tr}}(\\tilde\\bPhi_{{r:n}}^T \\Sigma^2 \\tilde\\bPhi_{{r:n}})$ = {0} (r={1},n={2} )'\\\n",
    "                  .format(perp_var, len(S_til), n) ))\n",
    "    display(Latex(r'$\\mathrm{{tr}}(\\Sigma^2)$ = {0}'\\\n",
    "                  .format((sigma**2).sum()) ))\n",
    "\n",
    "    \n",
    "    display(Latex(r'$\\mathrm{{tr}}(\\bS_{{2,2}} - \\bS_{{2,1}} \\bS_{{1,1}}^{{-1}} \\bS_{{1,2}})$ = {0}'.format(np.trace(np.linalg.pinv(S22 - S21 @ solver_2 @ S12)))))"
   ]
  },
  {
   "cell_type": "code",
   "execution_count": 17,
   "metadata": {},
   "outputs": [
    {
     "data": {
      "text/latex": [
       "Rank$(\\bW) =$ 3,  Rank$(\\bV) =$ 5,  Rank$(\\bG_W) =$ 3"
      ],
      "text/plain": [
       "<IPython.core.display.Latex object>"
      ]
     },
     "metadata": {},
     "output_type": "display_data"
    },
    {
     "data": {
      "text/latex": [
       "$\\mathrm{trsq}(\\bG_\\perp)=$ 0.902583048937754"
      ],
      "text/plain": [
       "<IPython.core.display.Latex object>"
      ]
     },
     "metadata": {},
     "output_type": "display_data"
    },
    {
     "data": {
      "text/latex": [
       "$\\sum_i \\sigma_i^2 - \\mathrm{trsq}(\\bG_W)=$ 0.9025830489377542"
      ],
      "text/plain": [
       "<IPython.core.display.Latex object>"
      ]
     },
     "metadata": {},
     "output_type": "display_data"
    },
    {
     "data": {
      "text/latex": [
       "$\\mathrm{trsq}(\\bQ_\\perp)=$ 496.4569937152204"
      ],
      "text/plain": [
       "<IPython.core.display.Latex object>"
      ]
     },
     "metadata": {},
     "output_type": "display_data"
    },
    {
     "data": {
      "text/latex": [
       "$\\sum_i \\sigma_i^{-2} - \\mathrm{trsq}(\\bQ_W)=$ 496.4569937152203"
      ],
      "text/plain": [
       "<IPython.core.display.Latex object>"
      ]
     },
     "metadata": {},
     "output_type": "display_data"
    },
    {
     "data": {
      "text/latex": [
       "$\\mathrm{tr}(\\bT_{2,2})$ = 496.4569937152205"
      ],
      "text/plain": [
       "<IPython.core.display.Latex object>"
      ]
     },
     "metadata": {},
     "output_type": "display_data"
    },
    {
     "data": {
      "text/latex": [
       "$\\sum_i \\sigma_i^{-2} - \\mathrm{trsq}(\\bQ_W^\\dagger)=$ 1929.2409349794857"
      ],
      "text/plain": [
       "<IPython.core.display.Latex object>"
      ]
     },
     "metadata": {},
     "output_type": "display_data"
    },
    {
     "data": {
      "text/latex": [
       "$\\sum_i \\sigma_i^{-2} - \\mathrm{trinvsq}(\\bQ_W)=$ 1928.0129360019469"
      ],
      "text/plain": [
       "<IPython.core.display.Latex object>"
      ]
     },
     "metadata": {},
     "output_type": "display_data"
    },
    {
     "data": {
      "text/latex": [
       "$\\mathrm{tr}(\\bT_{2,2}^{-1})$ = 0.549770313679711"
      ],
      "text/plain": [
       "<IPython.core.display.Latex object>"
      ]
     },
     "metadata": {},
     "output_type": "display_data"
    },
    {
     "data": {
      "text/latex": [
       "$\\mathrm{tr}(\\tilde\\bPhi_{r:n}^T \\Sigma^2 \\tilde\\bPhi_{r:n})$ = 0.5497703136797036 (r=3,n=5 )"
      ],
      "text/plain": [
       "<IPython.core.display.Latex object>"
      ]
     },
     "metadata": {},
     "output_type": "display_data"
    },
    {
     "data": {
      "text/latex": [
       "$\\mathrm{tr}(\\Sigma^2)$ = 2.2755539513849548"
      ],
      "text/plain": [
       "<IPython.core.display.Latex object>"
      ]
     },
     "metadata": {},
     "output_type": "display_data"
    },
    {
     "data": {
      "text/latex": [
       "$\\mathrm{tr}(\\bS_{2,2} - \\bS_{2,1} \\bS_{1,1}^{-1} \\bS_{1,2})$ = 496.45699371527445"
      ],
      "text/plain": [
       "<IPython.core.display.Latex object>"
      ]
     },
     "metadata": {},
     "output_type": "display_data"
    }
   ],
   "source": [
    "test_cond_variances(K=5, m=3, n=5)"
   ]
  },
  {
   "cell_type": "code",
   "execution_count": 18,
   "metadata": {},
   "outputs": [
    {
     "data": {
      "text/latex": [
       "Rank$(\\bW) =$ 2,  Rank$(\\bV) =$ 5,  Rank$(\\bG_W) =$ 2"
      ],
      "text/plain": [
       "<IPython.core.display.Latex object>"
      ]
     },
     "metadata": {},
     "output_type": "display_data"
    },
    {
     "data": {
      "text/latex": [
       "$\\mathrm{trsq}(\\bG_\\perp)=$ 1.7392536307936908"
      ],
      "text/plain": [
       "<IPython.core.display.Latex object>"
      ]
     },
     "metadata": {},
     "output_type": "display_data"
    },
    {
     "data": {
      "text/latex": [
       "$\\sum_i \\sigma_i^2 - \\mathrm{trsq}(\\bG_W)=$ 1.7392536307936908"
      ],
      "text/plain": [
       "<IPython.core.display.Latex object>"
      ]
     },
     "metadata": {},
     "output_type": "display_data"
    },
    {
     "data": {
      "text/latex": [
       "$\\mathrm{trsq}(\\bQ_\\perp)=$ 20.24431605954618"
      ],
      "text/plain": [
       "<IPython.core.display.Latex object>"
      ]
     },
     "metadata": {},
     "output_type": "display_data"
    },
    {
     "data": {
      "text/latex": [
       "$\\sum_i \\sigma_i^{-2} - \\mathrm{trsq}(\\bQ_W)=$ 20.24431605954635"
      ],
      "text/plain": [
       "<IPython.core.display.Latex object>"
      ]
     },
     "metadata": {},
     "output_type": "display_data"
    },
    {
     "data": {
      "text/latex": [
       "$\\mathrm{tr}(\\bT_{2,2})$ = 20.24431605954618"
      ],
      "text/plain": [
       "<IPython.core.display.Latex object>"
      ]
     },
     "metadata": {},
     "output_type": "display_data"
    },
    {
     "data": {
      "text/latex": [
       "$\\sum_i \\sigma_i^{-2} - \\mathrm{trsq}(\\bQ_W^\\dagger)=$ 545.6830511791229"
      ],
      "text/plain": [
       "<IPython.core.display.Latex object>"
      ]
     },
     "metadata": {},
     "output_type": "display_data"
    },
    {
     "data": {
      "text/latex": [
       "$\\sum_i \\sigma_i^{-2} - \\mathrm{trinvsq}(\\bQ_W)=$ 545.3093394870803"
      ],
      "text/plain": [
       "<IPython.core.display.Latex object>"
      ]
     },
     "metadata": {},
     "output_type": "display_data"
    },
    {
     "data": {
      "text/latex": [
       "$\\mathrm{tr}(\\bT_{2,2}^{-1})$ = 1.1696879686919992"
      ],
      "text/plain": [
       "<IPython.core.display.Latex object>"
      ]
     },
     "metadata": {},
     "output_type": "display_data"
    },
    {
     "data": {
      "text/latex": [
       "$\\mathrm{tr}(\\tilde\\bPhi_{r:n}^T \\Sigma^2 \\tilde\\bPhi_{r:n})$ = 1.1696879686919979 (r=2,n=5 )"
      ],
      "text/plain": [
       "<IPython.core.display.Latex object>"
      ]
     },
     "metadata": {},
     "output_type": "display_data"
    },
    {
     "data": {
      "text/latex": [
       "$\\mathrm{tr}(\\Sigma^2)$ = 2.1678749538069697"
      ],
      "text/plain": [
       "<IPython.core.display.Latex object>"
      ]
     },
     "metadata": {},
     "output_type": "display_data"
    },
    {
     "data": {
      "text/latex": [
       "$\\mathrm{tr}(\\bS_{2,2} - \\bS_{2,1} \\bS_{1,1}^{-1} \\bS_{1,2})$ = 20.244316059546435"
      ],
      "text/plain": [
       "<IPython.core.display.Latex object>"
      ]
     },
     "metadata": {},
     "output_type": "display_data"
    }
   ],
   "source": [
    "test_cond_variances(K=5, m=2, n=5)"
   ]
  },
  {
   "cell_type": "code",
   "execution_count": 19,
   "metadata": {},
   "outputs": [
    {
     "data": {
      "text/latex": [
       "Rank$(\\bW) =$ 40,  Rank$(\\bV) =$ 100,  Rank$(\\bG_W) =$ 40"
      ],
      "text/plain": [
       "<IPython.core.display.Latex object>"
      ]
     },
     "metadata": {},
     "output_type": "display_data"
    },
    {
     "data": {
      "text/latex": [
       "$\\mathrm{trsq}(\\bG_\\perp)=$ 20.82151659386897"
      ],
      "text/plain": [
       "<IPython.core.display.Latex object>"
      ]
     },
     "metadata": {},
     "output_type": "display_data"
    },
    {
     "data": {
      "text/latex": [
       "$\\sum_i \\sigma_i^2 - \\mathrm{trsq}(\\bG_W)=$ 20.821516593868985"
      ],
      "text/plain": [
       "<IPython.core.display.Latex object>"
      ]
     },
     "metadata": {},
     "output_type": "display_data"
    },
    {
     "data": {
      "text/latex": [
       "$\\mathrm{trsq}(\\bQ_\\perp)=$ 8552.724891137652"
      ],
      "text/plain": [
       "<IPython.core.display.Latex object>"
      ]
     },
     "metadata": {},
     "output_type": "display_data"
    },
    {
     "data": {
      "text/latex": [
       "$\\sum_i \\sigma_i^{-2} - \\mathrm{trsq}(\\bQ_W)=$ 8552.724891137654"
      ],
      "text/plain": [
       "<IPython.core.display.Latex object>"
      ]
     },
     "metadata": {},
     "output_type": "display_data"
    },
    {
     "data": {
      "text/latex": [
       "$\\mathrm{tr}(\\bT_{2,2})$ = 8552.724891137656"
      ],
      "text/plain": [
       "<IPython.core.display.Latex object>"
      ]
     },
     "metadata": {},
     "output_type": "display_data"
    },
    {
     "data": {
      "text/latex": [
       "$\\sum_i \\sigma_i^{-2} - \\mathrm{trsq}(\\bQ_W^\\dagger)=$ 13550.729331558689"
      ],
      "text/plain": [
       "<IPython.core.display.Latex object>"
      ]
     },
     "metadata": {},
     "output_type": "display_data"
    },
    {
     "data": {
      "text/latex": [
       "$\\sum_i \\sigma_i^{-2} - \\mathrm{trinvsq}(\\bQ_W)=$ 13544.298930784118"
      ],
      "text/plain": [
       "<IPython.core.display.Latex object>"
      ]
     },
     "metadata": {},
     "output_type": "display_data"
    },
    {
     "data": {
      "text/latex": [
       "$\\mathrm{tr}(\\bT_{2,2}^{-1})$ = 14.099576139045578"
      ],
      "text/plain": [
       "<IPython.core.display.Latex object>"
      ]
     },
     "metadata": {},
     "output_type": "display_data"
    },
    {
     "data": {
      "text/latex": [
       "$\\mathrm{tr}(\\tilde\\bPhi_{r:n}^T \\Sigma^2 \\tilde\\bPhi_{r:n})$ = 14.099576139045654 (r=40,n=100 )"
      ],
      "text/plain": [
       "<IPython.core.display.Latex object>"
      ]
     },
     "metadata": {},
     "output_type": "display_data"
    },
    {
     "data": {
      "text/latex": [
       "$\\mathrm{tr}(\\Sigma^2)$ = 34.19325005108583"
      ],
      "text/plain": [
       "<IPython.core.display.Latex object>"
      ]
     },
     "metadata": {},
     "output_type": "display_data"
    },
    {
     "data": {
      "text/latex": [
       "$\\mathrm{tr}(\\bS_{2,2} - \\bS_{2,1} \\bS_{1,1}^{-1} \\bS_{1,2})$ = 8552.724891137965"
      ],
      "text/plain": [
       "<IPython.core.display.Latex object>"
      ]
     },
     "metadata": {},
     "output_type": "display_data"
    }
   ],
   "source": [
    "test_cond_variances(K=100, m=40, n=100)"
   ]
  },
  {
   "cell_type": "markdown",
   "metadata": {},
   "source": [
    "\n",
    "\n",
    "\n",
    "# Now we try the same but in $H_0^1$\n",
    "...for some solutions that we actually get from the PCA decomposition, along with some "
   ]
  },
  {
   "cell_type": "code",
   "execution_count": null,
   "metadata": {},
   "outputs": [],
   "source": []
  }
 ],
 "metadata": {
  "kernelspec": {
   "display_name": "Python 3",
   "language": "python",
   "name": "python3"
  },
  "language_info": {
   "codemirror_mode": {
    "name": "ipython",
    "version": 3
   },
   "file_extension": ".py",
   "mimetype": "text/x-python",
   "name": "python",
   "nbconvert_exporter": "python",
   "pygments_lexer": "ipython3",
   "version": "3.6.1"
  }
 },
 "nbformat": 4,
 "nbformat_minor": 2
}
