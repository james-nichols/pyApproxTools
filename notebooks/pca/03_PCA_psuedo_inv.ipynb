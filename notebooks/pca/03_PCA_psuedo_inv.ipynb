{
 "cells": [
  {
   "cell_type": "markdown",
   "metadata": {},
   "source": [
    "$\\def \\dot #1#2{\\left\\langle #1, #2 \\right\\rangle}$\n",
    "$\\def \\adot #1#2{\\left\\langle #1, #2 \\right\\rangle}$\n",
    "$\\def \\cA {\\mathcal{A}}$\n",
    "$\\def \\cD {\\mathcal{D}}$\n",
    "$\\def \\cM {\\mathcal{M}}$\n",
    "$\\def \\cN {\\mathcal{N}}$\n",
    "$\\def \\cW {\\mathcal{W}}$\n",
    "$\\def \\bc {\\mathbf{c}}$\n",
    "$\\def \\bu {\\mathbf{u}}$\n",
    "$\\def \\bv {\\mathbf{v}}$\n",
    "$\\def \\bw {\\mathbf{w}}$\n",
    "$\\def \\bG {\\mathbf{G}}$\n",
    "$\\def \\bC {\\mathbf{C}}$\n",
    "$\\def \\bD {\\mathbf{D}}$\n",
    "$\\def \\bI {\\mathbf{I}}$\n",
    "$\\def \\bP {\\mathbf{P}}$\n",
    "$\\def \\bQ {\\mathbf{Q}}$\n",
    "$\\def \\bR {\\mathbf{R}}$\n",
    "$\\def \\bS {\\mathbf{S}}$\n",
    "$\\def \\bT {\\mathbf{T}}$\n",
    "$\\def \\bU {\\mathbf{U}}$\n",
    "$\\def \\bV {\\mathbf{V}}$\n",
    "$\\def \\bW {\\mathbf{W}}$\n",
    "$\\def \\bPhi {\\mathbf{\\Phi}}$\n",
    "$\\def \\bPsi {\\mathbf{\\Psi}}$\n",
    "$\\def \\bGamma {\\mathbf{\\Gamma}}$\n",
    "$\\def \\bSigma {\\mathbf{\\Sigma}}$\n",
    "$\\def \\bTheta {\\mathbf{\\Theta}}$\n",
    "$\\def \\bOmega {\\mathbf{\\Omega}}$\n",
    "$\\def \\bbE {\\mathbb{E}}$\n",
    "$\\def \\bbP {\\mathbb{P}}$\n",
    "$\\def \\bbR {\\mathbb{R}}$\n",
    "$\\def \\bbN {\\mathbb{N}}$\n",
    "\n",
    "### When $\\sigma_i = 0$ for $n< i \\le K$, then what does our pseudo-inverse approach yield?\n",
    "\n",
    "Again all tests are in $\\bbR^K$, and we have two random orthonormal bases and $(\\psi_1,\\ldots,\\psi_K)$ and $(\\varphi_1,\\ldots,\\varphi_K)$, along with the singular values / PCA values of $(\\sigma_1,\\ldots,\\sigma_n,0,\\ldots)$, i.e. we assume the PCA comes up short with only $n$ dimensions (or that they are so small they should be truncated, which helps for stability of the final systems).\n",
    "\n",
    "We assume further that the measurement space $W = \\mathrm{span}(\\psi_1,\\ldots,\\psi_m)$ and $W_\\perp = \\mathrm{span}(\\psi_{m+1},\\ldots,\\psi_K)$, and we write $V = \\mathrm{span}(\\varphi_1,\\ldots,\\varphi_n)$.\n",
    "\n",
    "We have the matrix $\\bPhi = [\\varphi_1 \\ldots \\varphi_K]$ and $\\bPsi = [\\psi_1\\,\\ldots\\,\\psi_K]$, where the basis vectors are the columns of the matrices. Finally we write $\\bW = [\\psi_1\\,\\ldots\\,\\psi_m]$, $\\bW_\\perp = [\\psi_{m+1}\\,\\ldots\\,\\psi_K]$ and $\\bV = [\\varphi_{1}\\,\\ldots\\,\\varphi_n]$. For the cross-Grammian we have $\\bG = \\bPhi^T \\bPsi$.\n",
    "\n",
    "Now, $\\bT = \\bG^T \\bD^{-1} \\bG = \\bPsi^T \\bPhi \\bSigma^{-2} \\bPhi^T \\bPsi$, the diagonal matrix $\\bSigma = \\mathrm{diag}(\\sigma_1,\\ldots,\\sigma_n,0\\ldots)$. Note also that, using the above notation $\\bPsi = \\begin{bmatrix} \\bW & \\bW_\\perp \\end{bmatrix}$, so in fact\n",
    "\n",
    "$$\n",
    "\\bG = \\bPhi^T \\bPsi = \\begin{bmatrix} \\bPhi^T\\bW & \\bPhi^T\\bW_\\perp \\end{bmatrix}\n",
    "$$\n",
    "\n",
    "\n",
    "$$\n",
    "\\bS = \n",
    "\\begin{bmatrix}\n",
    "\\bW^T\\bPhi \\\\\n",
    "\\bW_\\perp^T\\bPhi\n",
    "\\end{bmatrix}\n",
    "\\bSigma^{2} \n",
    "\\begin{bmatrix} \\bPhi^T \\bW & \\bPhi^T \\bW_\\perp \\end{bmatrix}\n",
    "=\n",
    "\\begin{bmatrix}\n",
    "\\bW^T \\bPhi \\bSigma^{2} \\bPhi^T \\bW & \\bW^T \\bPhi \\bSigma^{2} \\bPhi^T \\bW_\\perp \\\\\n",
    "\\bW_\\perp^T \\bPhi \\bSigma^{2} \\bPhi^T \\bW & \\bW_\\perp^T \\bPhi \\bSigma^{2} \\bPhi^T \\bW_\\perp\n",
    "\\end{bmatrix}\n",
    "$$\n",
    "and similar for $\\bT$ (except with $\\bSigma^{-2}$).\n",
    "\n",
    "which give us the expressions for $\\bS_{1,1}$, $\\bT_{1,1}$, $\\bT_{1,2}$ etc.. The issue here is that $\\bS_{1,1}$ or $\\bT_{2,2}$ may no longer invertible as \n",
    "\n",
    "$$\\bS_{1,1} = \\bW^T \\bPhi \\bSigma^{2} \\bPhi^T \\bW =\\bW^T \\bV \\bSigma_n^{2} \\bV^T \\bW$$\n",
    "\n",
    "$$\\bT_{2,2} = \\bW_\\perp^T \\bPhi \\bSigma^{-2} \\bPhi^T \\bW_\\perp =\\bW_\\perp^T \\bV \\bSigma_n^{-2} \\bV^T \\bW_\\perp$$\n",
    "\n",
    "which are both of rank at most $n$. "
   ]
  },
  {
   "cell_type": "code",
   "execution_count": 297,
   "metadata": {},
   "outputs": [],
   "source": [
    "import numpy as np\n",
    "import scipy as sp\n",
    "import seaborn as sns\n",
    "import matplotlib.pyplot as plt\n",
    "from IPython.display import Latex, display\n",
    "\n",
    "import sys\n",
    "sys.path.append(\"../../\")\n",
    "import pyApproxTools as pat\n",
    "\n",
    "%matplotlib inline\n",
    "np.random.seed(1)"
   ]
  },
  {
   "cell_type": "code",
   "execution_count": 298,
   "metadata": {},
   "outputs": [],
   "source": [
    "K = 100  # The dimensionality of the ambient space (can be up to 2^16 for FEM solutions)\n",
    "n = K    # The truncation dimension of the PCA / embedding dimension of the manifold \n",
    "m = 6    # The dimension off the measurement space\n",
    "\n",
    "# First make two random orthonormal vector bases\n",
    "Phi = sp.stats.ortho_group.rvs(dim=K) # The \"PCA\" space\n",
    "Psi = sp.stats.ortho_group.rvs(dim=K) # The \"measurement\" space\n",
    "\n",
    "sigma = np.sort(np.random.random(n))[::-1]\n",
    "sigma[n:] = 0\n",
    "Sigma = np.pad(np.diag(sigma), ((0,K-n),(0,K-n)), 'constant')\n",
    "Sigma_inv = np.pad(np.diag(1.0/sigma), ((0,K-n),(0,K-n)), 'constant')\n",
    "Sigma_n = np.diag(sigma)\n",
    "Sigma_n_inv = np.diag(1.0/sigma)\n",
    "\n",
    "V = Phi[:,:n]\n",
    "W = Psi[:,:m]\n",
    "W_p = Psi[:,m:]\n",
    "\n",
    "T = Psi.T @ Phi @ Sigma_inv @ Sigma_inv @ Phi.T @ Psi\n",
    "S = Psi.T @ Phi @ Sigma @ Sigma @ Phi.T @ Psi"
   ]
  },
  {
   "cell_type": "markdown",
   "metadata": {},
   "source": [
    "### First test (which appears to pass)\n",
    "Checking that $\\bS_{1,1} = \\bW^T \\bPhi \\bSigma^{2} \\bPhi^T \\bW =\\bW^T \\bV \\bSigma_n^{2} \\bV^T \\bW$\n",
    "\n",
    "and $\\bT_{2,2} = \\bW_\\perp^T \\bPhi \\bSigma^{-2} \\bPhi^T \\bW_\\perp =\\bW_\\perp^T \\bV \\bSigma_n^{-2} \\bV^T \\bW_\\perp$, etc..."
   ]
  },
  {
   "cell_type": "code",
   "execution_count": 299,
   "metadata": {},
   "outputs": [
    {
     "name": "stdout",
     "output_type": "stream",
     "text": [
      "T_21 of shape (94, 6), rank 6, condition 265.7405087857795\n",
      "T_22 of shape (94, 94), rank 94, condition 78211.85097360454\n",
      "\n",
      "S_11 of shape (6, 6), rank 6, condition 1.8115596222028791\n",
      "S_21 of shape (94, 6), rank 6, condition 1.4118293813471612\n",
      "S_22 of shape (94, 94), rank 94, condition 2715.7848082715414\n",
      "\n"
     ]
    },
    {
     "data": {
      "text/latex": [
       "$\\left\\| \\bT_{2,1} - \\bW_\\perp^T \\bV \\bSigma^{-2} \\bV^T \\bW \\right\\|_F =$ 1.0562113847261398e-11"
      ],
      "text/plain": [
       "<IPython.core.display.Latex object>"
      ]
     },
     "metadata": {},
     "output_type": "display_data"
    },
    {
     "data": {
      "text/latex": [
       "$\\left\\| \\bS_{1,1} - \\bW^T \\bV \\bSigma^{2} \\bV^T \\bW \\right\\|_F =$ 2.86361090220824e-16"
      ],
      "text/plain": [
       "<IPython.core.display.Latex object>"
      ]
     },
     "metadata": {},
     "output_type": "display_data"
    },
    {
     "data": {
      "text/latex": [
       "$\\left\\| \\bS_{2,1} - \\bW_\\perp^T \\bV \\bSigma^{2} \\bV^T \\bW \\right\\|_F =$ 3.4960246471205157e-16"
      ],
      "text/plain": [
       "<IPython.core.display.Latex object>"
      ]
     },
     "metadata": {},
     "output_type": "display_data"
    }
   ],
   "source": [
    "T21 = T[m:, :m]\n",
    "T22 = T[m:, m:]\n",
    "S11 = S[:m, :m]\n",
    "S21 = S[m:, :m]\n",
    "S22 = S[m:, m:]\n",
    "\n",
    "T22_alt = W_p.T @ V @ Sigma_n_inv @ Sigma_n_inv @ V.T @ W_p\n",
    "T21_alt = W_p.T @ V @ Sigma_n_inv @ Sigma_n_inv @ V.T @ W\n",
    "S11_alt = W.T @ V @ Sigma_n @ Sigma_n @ V.T @ W\n",
    "S22_alt = W_p.T @ V @ Sigma_n @ Sigma_n @ V.T @ W_p\n",
    "S21_alt = W_p.T @ V @ Sigma_n @ Sigma_n @ V.T @ W\n",
    "\n",
    "print('T_21 of shape {0}, rank {1}, condition {2}'.format(T21.shape, np.linalg.matrix_rank(T21), np.linalg.cond(T21)))\n",
    "print('T_22 of shape {0}, rank {1}, condition {2}\\n'.format(T22.shape, np.linalg.matrix_rank(T22), np.linalg.cond(T22)))\n",
    "print('S_11 of shape {0}, rank {1}, condition {2}'.format(S11.shape, np.linalg.matrix_rank(S11), np.linalg.cond(S11)))\n",
    "print('S_21 of shape {0}, rank {1}, condition {2}'.format(S21.shape, np.linalg.matrix_rank(S21), np.linalg.cond(S21)))\n",
    "print('S_22 of shape {0}, rank {1}, condition {2}\\n'.format(S22.shape, np.linalg.matrix_rank(S22), np.linalg.cond(S22)))\n",
    "\n",
    "# Just to check\n",
    "display(Latex(r'$\\left\\| \\bT_{{2,1}} - \\bW_\\perp^T \\bV \\bSigma^{{-2}} \\bV^T \\bW \\right\\|_F \\\n",
    "=$ {0}'.format(np.linalg.norm(T21 - T21_alt))))\n",
    "display(Latex(r'$\\left\\| \\bS_{{1,1}} - \\bW^T \\bV \\bSigma^{{2}} \\bV^T \\bW \\right\\|_F \\\n",
    "=$ {0}'.format(np.linalg.norm(S11 - S11_alt))))\n",
    "display(Latex(r'$\\left\\| \\bS_{{2,1}} - \\bW_\\perp^T \\bV \\bSigma^{{2}} \\bV^T \\bW \\right\\|_F \\\n",
    "=$ {0}'.format(np.linalg.norm(S21 - S21_alt))))"
   ]
  },
  {
   "cell_type": "markdown",
   "metadata": {},
   "source": [
    "Right away above we see several advantages of using $\\bS_{1,1}$ to solve the system - the condition number is better in the case of full rank, and the system is only $m\\times m$ in size.\n",
    "\n",
    "### Double checking SVD decompositions and psuedo-inverses\n",
    "\n",
    "Because both $\\bS_{1,1}$ and $\\bT_{2,2}$ can be rank difficient if $n < m$ or $n < K-m$ respectively, so we need the pseudo-inverse, $\\bS_{1,1}^\\dagger$, to solve this system. Let us consider the SVD decomposition of \n",
    "\n",
    "$$\n",
    "(\\bW^T \\bV \\bSigma_n) = \\bP \\bQ \\bR \\quad\\text{giving us}\\quad \\bS_{1,1} = \\bP \\bQ \\bQ^T \\bP^T\n",
    "$$\n",
    "\n",
    "As is usual, there is a stable inverse for $\\bS_{1,1}$ in the span of the columns of $\\bP$ up til at most $\\min(n, m)$. Let us write that $\\bP_{1:r}$ is the matrix made up of the first $r=\\min(m,n)$ columns of $\\bP$. Psuedo inverse would obv be of the form (assuming, e.g. that the rank of $\\bS_{1,1}$ is $n$, and also writing $\\bQ^{-2}$ for the appropriate diagonal matrix)\n",
    "\n",
    "$$\n",
    "\\bS^\\dagger_{1,1} = \\bP_{1:r} \\bQ^{-2} (\\bP_{1:r})^T\n",
    "$$\n",
    "\n",
    "Similar calc applies for $\\bT_{2,2}$, with the psuedo-inverse applying in the span of the SVD decomp of $(\\bW^T \\bV \\bSigma_n^{-1})$, $\\bP_\\perp$ up til the $\\min(K-m, n)$-th column."
   ]
  },
  {
   "cell_type": "code",
   "execution_count": 300,
   "metadata": {},
   "outputs": [
    {
     "data": {
      "text/latex": [
       "$\\left \\| \\bS_{1,1}^\\dagger - \\bP_{1:n} \\bQ^{-2} (\\bP_{1:n})^T \\right\\|_F =$  8.508773203680112e-15"
      ],
      "text/plain": [
       "<IPython.core.display.Latex object>"
      ]
     },
     "metadata": {},
     "output_type": "display_data"
    },
    {
     "data": {
      "text/latex": [
       "$\\left \\| \\bT_{2,2}^\\dagger - \\bP_{\\perp,1:n} \\bQ_\\perp^{-2} (\\bP_{\\perp,1:n})^T \\right\\|_F =$  6.9411054539084315e-12"
      ],
      "text/plain": [
       "<IPython.core.display.Latex object>"
      ]
     },
     "metadata": {},
     "output_type": "display_data"
    }
   ],
   "source": [
    "P, Q, RT = sp.linalg.svd(W.T @ V @ Sigma_n)\n",
    "P_p, Q_p, R_pT = sp.linalg.svd(W_p.T @ V @ Sigma_n_inv)\n",
    "\n",
    "rm = min(m,n)\n",
    "rk = min(K-m, n)\n",
    "\n",
    "T22_pinv = P_p[:,:rk] @ np.diag(1.0/(Q_p*Q_p)) @ P_p[:,:rk].T\n",
    "S11_pinv = P[:,:rm] @ np.diag(1/(Q*Q)) @ P[:,:rm].T\n",
    "\n",
    "display(Latex(r'$\\left \\| \\bS_{{1,1}}^\\dagger - \\bP_{{1:n}} \\bQ^{{-2}} (\\bP_{{1:n}})^T \\right\\|_F =$  {0}'.format(np.linalg.norm(S11_pinv - np.linalg.pinv(S11)))))\n",
    "display(Latex(r'$\\left \\| \\bT_{{2,2}}^\\dagger - \\bP_{{\\perp,1:n}} \\bQ_\\perp^{{-2}} (\\bP_{{\\perp,1:n}})^T \\right\\|_F =$  {0}'.format(np.linalg.norm(T22_pinv - np.linalg.pinv(T22)))))"
   ]
  },
  {
   "cell_type": "markdown",
   "metadata": {},
   "source": [
    "Given the SVD decompositions\n",
    "\n",
    "$$\n",
    "(\\bW^T \\bV \\bSigma_n) = \\bP \\bQ \\bR \\quad\\text{and}\\quad(\\bW_\\perp^T \\bV \\bSigma_n) = \\bP_\\perp \\bQ_\\perp \\bR_\\perp \n",
    "$$\n",
    "\n",
    "we find that (again with $r=\\min(m,n)$)\n",
    "\n",
    "\\begin{align}\n",
    "\\bS_{2,1} \\bS_{1,1}^\\dagger \n",
    "&= \\bP_\\perp \\bQ_\\perp^{-1} \\bR_\\perp^T \\bR \\bQ \\bP^T \n",
    "\\bP_{1:r} \\bQ^{-2} (\\bP_{1:r})^T \\\\\n",
    "&= \\bP_\\perp \\bQ_\\perp^{-1} \\bR_\\perp^T \\bR_{1:r} \\bQ^{-1} (\\bP_{1:r})^T \\\\\n",
    "\\end{align}\n",
    "\n",
    "$$\n",
    "\\bw_\\perp^* = \\bS_{2,1} \\bS_{1,1}^\\dagger \\bw = \\bT_{2,2}^\\dagger \\bT_{2,1} \\bw\n",
    "$$\n",
    "\n",
    "And once again there is a very similar calculation for $\\bT_{2,2}^\\dagger$."
   ]
  },
  {
   "cell_type": "code",
   "execution_count": 301,
   "metadata": {},
   "outputs": [
    {
     "name": "stdout",
     "output_type": "stream",
     "text": [
      "(S21 * S11_inv) shape (94, 6) condition 1.7075450222771817\n"
     ]
    },
    {
     "data": {
      "text/latex": [
       "$\\left\\| \\bS_{2,1} \\bS_{1,1}^\\dagger - (\\bP_\\perp)_{1:n} \\bQ_\\perp \\bR_\\perp^T \\bR_W \\bQ_W^{-1} (\\bP_W)_{1:n}^T \\right\\|_F =$6.396599896368877e-15"
      ],
      "text/plain": [
       "<IPython.core.display.Latex object>"
      ]
     },
     "metadata": {},
     "output_type": "display_data"
    },
    {
     "name": "stdout",
     "output_type": "stream",
     "text": [
      "(T22_inv * T21) shape (94, 6) condition 1.7075450222783881\n"
     ]
    },
    {
     "data": {
      "text/latex": [
       "$\\left\\| \\bT_{2,2}^\\dagger \\bT_{2,1} - (\\bP_\\perp)_{1:n} \\bQ_\\perp^{-1} \\bR_\\perp^T \\bR_W \\bQ_W (\\bP_W)_{1:n}^T \\right\\|_F =$8.19162977487262e-12"
      ],
      "text/plain": [
       "<IPython.core.display.Latex object>"
      ]
     },
     "metadata": {},
     "output_type": "display_data"
    },
    {
     "data": {
      "text/latex": [
       "$\\left\\| \\bS_{2,1} \\bS_{1,1}^\\dagger  - \\bT_{2,2}^\\dagger \\bT_{2,1} \\right\\|_F =$ 3.659857419825181"
      ],
      "text/plain": [
       "<IPython.core.display.Latex object>"
      ]
     },
     "metadata": {},
     "output_type": "display_data"
    }
   ],
   "source": [
    "ra = min(K-m, n)\n",
    "rm = min(m, n)\n",
    "\n",
    "P, Q, RT = sp.linalg.svd(W.T @ V @ Sigma_n)\n",
    "P_p, Q_p, R_pT = sp.linalg.svd(W_p.T @ V @ Sigma_n)\n",
    "Ssolver_alt = P_p[:,:ra] @ np.diag(Q_p) @ R_pT[:ra] @ RT[:rm].T @ np.diag(1.0/Q) @ P[:,:rm].T\n",
    "Ssolver = S21 @ np.linalg.pinv(S11)\n",
    "\n",
    "print('(S21 * S11_inv) shape {0} condition {1}'.format(Ssolver.shape, np.linalg.cond(Ssolver)))\n",
    "display(Latex(r'$\\left\\| \\bS_{{2,1}} \\bS_{{1,1}}^\\dagger - (\\bP_\\perp)_{{1:n}} \\bQ_\\perp \\bR_\\perp^T \\bR_W \\bQ_W^{{-1}} (\\bP_W)_{{1:n}}^T \\right\\|_F =$\\\n",
    "{0}'.format(np.linalg.norm(Ssolver - Ssolver_alt))))\n",
    "\n",
    "P, Q, RT = sp.linalg.svd(W.T @ V @ Sigma_n_inv)\n",
    "P_p, Q_p, R_pT = sp.linalg.svd(W_p.T @ V @ Sigma_n_inv)\n",
    "Tsolver_alt = P_p[:,:ra] @ np.diag(1.0/Q_p) @ R_pT[:ra] @ RT[:rm].T @ np.diag(Q) @ P[:,:rm].T\n",
    "Tsolver = np.linalg.pinv(T22) @ T21\n",
    "\n",
    "print('(T22_inv * T21) shape {0} condition {1}'.format(Tsolver.shape, np.linalg.cond(Tsolver)))\n",
    "display(Latex(r'$\\left\\| \\bT_{{2,2}}^\\dagger \\bT_{{2,1}} - (\\bP_\\perp)_{{1:n}} \\bQ_\\perp^{{-1}} \\bR_\\perp^T \\bR_W \\bQ_W (\\bP_W)_{{1:n}}^T \\right\\|_F =$\\\n",
    "{0}'.format(np.linalg.norm(Tsolver - Tsolver_alt))))\n",
    "\n",
    "display(Latex(r'$\\left\\| \\bS_{{2,1}} \\bS_{{1,1}}^\\dagger  - \\bT_{{2,2}}^\\dagger \\bT_{{2,1}} \\right\\|_F =$ {0}'.format(np.linalg.norm(Tsolver - Ssolver))))\n"
   ]
  },
  {
   "cell_type": "code",
   "execution_count": 302,
   "metadata": {},
   "outputs": [
    {
     "name": "stdout",
     "output_type": "stream",
     "text": [
      "That other thing Ive been semi hopeful for : 862.1173900020692\n"
     ]
    }
   ],
   "source": [
    "print('That other thing Ive been semi hopeful for : {0}'.format(np.linalg.norm(Ssolver - Q.T @ P[:,:n].T)))"
   ]
  },
  {
   "cell_type": "markdown",
   "metadata": {},
   "source": [
    "### So what are we actually getting to here? \n",
    "\n",
    "Well, the complexity of the SVD for really large $K$ is just stupendous. We want to consider maybe something like restrict $\\bbR^K$ to $\\bbR^{2m}$ spanned by $\\psi_1,\\ldots,\\psi_{2m}$ to do this reconstruction, and we know that we'll have it within some amount...\n",
    "\n",
    "In this case we simply have the \"approximate\" operators \n",
    "\n",
    "$$\\bT_{2,2}^{(\\mathrm{app})} = \\bPsi_{m:2m}^T \\bV \\bSigma^{-2} \\bV^T \\bPsi_{m:2m}$$\n",
    "\n",
    "and \n",
    "\n",
    "$$\\bT_{2,1}^{(\\mathrm{app})} = \\bPsi_{m:2m}^T \\bV \\bSigma^{-2} \\bV^T \\bPsi_{1:m} = \\bPsi_{m:2m}^T \\bV \\bSigma^{-2} \\bV^T \\bW . $$ \n",
    "\n",
    "We see below we have much more manageable computations $\\bT_{2,2}^{(\\mathrm{app})}$ is now of shape $m \\times m$."
   ]
  },
  {
   "cell_type": "code",
   "execution_count": 303,
   "metadata": {},
   "outputs": [
    {
     "name": "stdout",
     "output_type": "stream",
     "text": [
      "S_11_approx of shape (6, 6), rank 6, condition 1.8115596222028805\n",
      "S_21_approx of shape (6, 6), rank 6, condition 36.3483297743399\n",
      "T_21_approx of shape (6, 6), rank 6, condition 816.7160304546929\n",
      "T_22_approx of shape (6, 6), rank 6, condition 320.4698990310355\n",
      "\n"
     ]
    },
    {
     "data": {
      "text/latex": [
       "$\\left\\| \\bS_{2,1} \\bS_{1,1}^\\dagger - \\bS_{2,1}^{(\\mathrm{app})} (\\bS_{1,1}^{(\\mathrm{app})})^\\dagger \\right\\|_2 =$ 1.402147799673593"
      ],
      "text/plain": [
       "<IPython.core.display.Latex object>"
      ]
     },
     "metadata": {},
     "output_type": "display_data"
    },
    {
     "data": {
      "text/latex": [
       "$\\left\\| \\bT_{2,2}^\\dagger \\bT_{2,1} - (\\bT_{2,2}^{(\\mathrm{app})})^\\dagger \\bT_{2,1}^{(\\mathrm{app})} \\right\\|_2 =$ 2.1938918525866247"
      ],
      "text/plain": [
       "<IPython.core.display.Latex object>"
      ]
     },
     "metadata": {},
     "output_type": "display_data"
    }
   ],
   "source": [
    "W2_p = Psi[:,m:2*m]\n",
    "\n",
    "S11_approx = W.T @ V @ Sigma_n @ Sigma_n @ V.T @ W\n",
    "S21_approx = W2_p.T @ V @ Sigma_n @ Sigma_n @ V.T @ W\n",
    "print('S_11_approx of shape {0}, rank {1}, condition {2}'.format(S11_approx.shape, np.linalg.matrix_rank(S11_approx), np.linalg.cond(S11_approx)))\n",
    "print('S_21_approx of shape {0}, rank {1}, condition {2}'.format(S21_approx.shape, np.linalg.matrix_rank(S21_approx), np.linalg.cond(S21_approx)))\n",
    "Ssolver_approx = S21_approx @ np.linalg.pinv(S11_approx)\n",
    "\n",
    "T22_approx = W2_p.T @ V @ Sigma_n_inv @ Sigma_n_inv @ V.T @ W2_p\n",
    "T21_approx = W2_p.T @ V @ Sigma_n_inv @ Sigma_n_inv @ V.T @ W\n",
    "print('T_21_approx of shape {0}, rank {1}, condition {2}'.format(T21_approx.shape, np.linalg.matrix_rank(T21_approx), np.linalg.cond(T21_approx)))\n",
    "print('T_22_approx of shape {0}, rank {1}, condition {2}'.format(T22_approx.shape, np.linalg.matrix_rank(T22_approx), np.linalg.cond(T22_approx)))\n",
    "Tsolver_approx = np.linalg.pinv(T22_approx) @ T21_approx\n",
    "\n",
    "print('')\n",
    "display(Latex(r'$\\left\\| \\bS_{{2,1}} \\bS_{{1,1}}^\\dagger - \\bS_{{2,1}}^{{(\\mathrm{{app}})}} (\\bS_{{1,1}}^{{(\\mathrm{{app}})}})^\\dagger \\right\\|_2 =$ {0}'.format(np.linalg.norm(W2_p @ Ssolver_approx - W_p @ solver, ord=2))))\n",
    "display(Latex(r'$\\left\\| \\bT_{{2,2}}^\\dagger \\bT_{{2,1}} - (\\bT_{{2,2}}^{{(\\mathrm{{app}})}})^\\dagger \\bT_{{2,1}}^{{(\\mathrm{{app}})}} \\right\\|_2 =$ {0}'.format(np.linalg.norm(W2_p @ Tsolver_approx - W_p @ solver, ord=2))))"
   ]
  },
  {
   "cell_type": "code",
   "execution_count": 102,
   "metadata": {},
   "outputs": [
    {
     "data": {
      "image/png": "[encoded data removed]",
      "text/plain": [
       "<matplotlib.figure.Figure at 0x114333cc0>"
      ]
     },
     "metadata": {},
     "output_type": "display_data"
    }
   ],
   "source": [
    "solver_acc = np.zeros(K-m)\n",
    "\n",
    "for M in range(m+1,K):\n",
    "    \n",
    "    W2_p = Psi[:,m:M]\n",
    "    S11_approx = W.T @ V @ Sigma_n @ Sigma_n @ V.T @ W\n",
    "    S21_approx = W2_p.T @ V @ Sigma_n @ Sigma_n @ V.T @ W\n",
    "    T22_approx = W2_p.T @ V @ Sigma_n_inv @ Sigma_n_inv @ V.T @ W2_p\n",
    "    T21_approx = W2_p.T @ V @ Sigma_n_inv @ Sigma_n_inv @ V.T @ W\n",
    "\n",
    "    solver_approx = np.linalg.pinv(T22_approx) @ T21_approx\n",
    "\n",
    "    solver_acc[M-(m+1)] = np.linalg.norm(W2_p @ solver_approx - W_p @ solver, ord=2)\n",
    "\n",
    "plt.figure(figsize=(10, 7))\n",
    "plt.loglog(range(m+1, K+1), solver_acc)\n",
    "plt.xlabel(r'Dim of $W + W_\\perp$')\n",
    "plt.ylabel(r'$||$ Solver - Approx Solver $||_2$')\n",
    "plt.title(r'Meas space $W$ of dim $m=${0}, PCA space of dim $n=${1}'.format(m,n))\n",
    "plt.show()"
   ]
  }
 ],
 "metadata": {
  "kernelspec": {
   "display_name": "Python 3",
   "language": "python",
   "name": "python3"
  },
  "language_info": {
   "codemirror_mode": {
    "name": "ipython",
    "version": 3
   },
   "file_extension": ".py",
   "mimetype": "text/x-python",
   "name": "python",
   "nbconvert_exporter": "python",
   "pygments_lexer": "ipython3",
   "version": "3.6.1"
  }
 },
 "nbformat": 4,
 "nbformat_minor": 2
}
